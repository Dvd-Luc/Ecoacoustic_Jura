{
 "cells": [
  {
   "cell_type": "code",
   "execution_count": 46,
   "metadata": {},
   "outputs": [],
   "source": [
    "import os\n",
    "import csv\n",
    "import pandas as pd\n",
    "import numpy as np\n",
    "import plotly.express as px\n",
    "from datetime import datetime\n",
    "from pprint import pprint\n",
    "from pathlib import Path\n",
    "\n",
    "from birdnetlib import Recording\n",
    "from birdnetlib.analyzer import Analyzer\n",
    "from birdnetlib.batch import DirectoryMultiProcessingAnalyzer"
   ]
  },
  {
   "cell_type": "markdown",
   "metadata": {},
   "source": [
    "## Utils for data shaping"
   ]
  },
  {
   "cell_type": "code",
   "execution_count": 47,
   "metadata": {},
   "outputs": [],
   "source": [
    "def extract_datetime_from_filename(filename):\n",
    "    try:\n",
    "        # Isolation of the base name without extension\n",
    "        base = Path(filename).stem  # ex: \"20231027_142533_recording\"\n",
    "        parts = base.split('_')\n",
    "        if len(parts) < 2:\n",
    "            return None  # format inattendu\n",
    "        \n",
    "        date_str, heure_str = parts[0], parts[1]\n",
    "        # Datetime conversion\n",
    "        return datetime.strptime(date_str + heure_str, \"%Y%m%d%H%M%S\")\n",
    "    except Exception as e:\n",
    "        print(f\"⚠️ Erreur pour {filename}: {e}\")\n",
    "        return None\n",
    "\n",
    "# Application au DataFrame\n",
    "\n",
    "def set_id_from_filename(df):\n",
    "    df[\"id\"] = df[\"folder\"] + \"_\" + df[\"file_name\"].str.split('.').str[0]\n",
    "    return df\n",
    "\n",
    "def set_gps_from_folder(df, gps_coord):\n",
    "\n",
    "    df[\"lat\"] = df[\"folder\"].str.split('_').str[1].astype(int).map(gps_coord.set_index('folder')['latitude'])\n",
    "    df[\"lon\"] = df[\"folder\"].str.split('_').str[1].astype(int).map(gps_coord.set_index('folder')['longitude'])\n",
    "    df[\"alt\"] = df[\"folder\"].str.split('_').str[1].astype(int).map(gps_coord.set_index('folder')['altitude'])\n",
    "\n",
    "    return df"
   ]
  },
  {
   "cell_type": "markdown",
   "metadata": {},
   "source": [
    "### DataFrame shaping (not needed if dataframe already correct)"
   ]
  },
  {
   "cell_type": "code",
   "execution_count": 24,
   "metadata": {},
   "outputs": [],
   "source": [
    "# dossier_racine = r\"./Ecoacoustics_Longitudinal_Altitude_Project\"\n",
    "\n",
    "# df_detection[\"datetime\"] = df_detection[\"file_name\"].apply(extract_datetime_from_filename)\n",
    "# df_detection = set_id_from_filename(df_detection)\n",
    "\n",
    "# gps_coord = pd.read_csv(dossier_racine+'/gps_coord.csv')  # Charger les coordonnées GPS si nécessaire\n",
    "\n",
    "# df_detection = set_gps_from_folder(df_detection, gps_coord)"
   ]
  },
  {
   "cell_type": "markdown",
   "metadata": {},
   "source": [
    "## Renaming the files so they can be read by birdnet\n",
    "Birdnet only accepts \".wav\" files, the ones provided by the Audiomoths are \".WAV\" files. We have to rename the files so birdnet can use them "
   ]
  },
  {
   "cell_type": "code",
   "execution_count": null,
   "metadata": {},
   "outputs": [],
   "source": [
    "# === Parameters ===\n",
    "DATA_PATH = \"./Ecoacoustics_Longitudinal_Altitude_Project/\"  # root folder to process\n",
    "\n",
    "# Recursively browse all subfolders\n",
    "for root, dirs, files in os.walk(DATA_PATH):\n",
    "    for file_name in files:\n",
    "        # Check if the file has a WAV extension (uppercase or mixed)\n",
    "        if file_name.lower().endswith(\".wav\"):\n",
    "            old_path = os.path.join(root, file_name)\n",
    "            # Create the new name with lowercase extension\n",
    "            base_name = os.path.splitext(file_name)[0]\n",
    "            new_path = os.path.join(root, base_name + \".wav\")\n",
    "            # Rename if the name is different\n",
    "            if old_path != new_path:\n",
    "                os.rename(old_path, new_path)\n",
    "                print(f\"Renamed: {old_path} -> {new_path}\")"
   ]
  },
  {
   "cell_type": "markdown",
   "metadata": {},
   "source": [
    "## Main function for birdnet analysis and data formatting"
   ]
  },
  {
   "cell_type": "code",
   "execution_count": 69,
   "metadata": {},
   "outputs": [],
   "source": [
    "def on_analyze_directory_complete(recordings, writer, gps_csv_path, export_dir,\n",
    "                                  export_audio=True, export_spectrograms=True):\n",
    "    print(\"-\" * 80)\n",
    "    print(\"directory_completed: recordings processed \", len(recordings))\n",
    "    print(\"-\" * 80)\n",
    "\n",
    "    gps_coord = pd.read_csv(gps_csv_path) \n",
    "\n",
    "    for recording in recordings:\n",
    "        print(recording.path)\n",
    "        if recording.error:\n",
    "            print(\"Error: \", recording.error_message)\n",
    "        else:\n",
    "            # Export audio et spectrogrammes\n",
    "            if export_audio:\n",
    "                recording.extract_detections_as_audio(directory=export_dir)\n",
    "            if export_spectrograms:\n",
    "                recording.extract_detections_as_spectrogram(directory=export_dir)\n",
    "\n",
    "             # Extract date/time from filename\n",
    "            dt = extract_datetime_from_filename(os.path.basename(recording.path))\n",
    "            # date_str = dt.strftime(\"%Y-%m-%d\") if dt else \"\"\n",
    "\n",
    "            # Extract folder number (e.g. \"site_12\" → 12)\n",
    "            folder_name = os.path.basename(os.path.dirname(recording.path))\n",
    "            file_name = os.path.basename(recording.path)\n",
    "            try:\n",
    "                folder_num = int(folder_name.split('_')[-1])\n",
    "            except ValueError:\n",
    "                folder_num = None\n",
    "\n",
    "            # Look up GPS coordinates\n",
    "            latitude = longitude = altitude = None\n",
    "            if folder_num is not None and folder_num in gps_coord['folder'].values:\n",
    "                row = gps_coord.loc[gps_coord['folder'] == folder_num].iloc[0]\n",
    "                latitude, longitude, altitude = row['latitude'], row['longitude'], row['altitude']\n",
    "\n",
    "            # Écrit les détections dans le CSV\n",
    "            for det in recording.detections:\n",
    "                writer.writerow({\n",
    "                    \"folder\": folder_name,\n",
    "                    \"file_name\": file_name,\n",
    "                    \"datetime\": dt,\n",
    "                    \"species\": det[\"common_name\"],\n",
    "                    \"confidence\": det[\"confidence\"],\n",
    "                    \"start_time\": det[\"start_time\"],\n",
    "                    \"end_time\": det[\"end_time\"],\n",
    "                    \"latitude\": latitude if latitude is not None else \"\",\n",
    "                    \"longitude\": longitude if longitude is not None else \"\",\n",
    "                    \"altitude\": altitude if altitude is not None else \"\",\n",
    "                })\n",
    "            # pprint(recording.detections)\n",
    "        print(\"-\" * 80)"
   ]
  },
  {
   "cell_type": "markdown",
   "metadata": {},
   "source": [
    "## Applying birdnet algorithm to ONE folder"
   ]
  },
  {
   "cell_type": "code",
   "execution_count": 70,
   "metadata": {},
   "outputs": [
    {
     "name": "stdout",
     "output_type": "stream",
     "text": [
      "Labels loaded.\n",
      "load model True\n",
      "Model loaded.\n",
      "Labels loaded.\n",
      "load_species_list_model\n",
      "Meta model loaded.\n"
     ]
    },
    {
     "name": "stderr",
     "output_type": "stream",
     "text": [
      "/home/boulbi/Bureau/COURS/MoBi/ecoacoustics/.venv/lib/python3.13/site-packages/tensorflow/lite/python/interpreter.py:457: UserWarning:\n",
      "\n",
      "    Warning: tf.lite.Interpreter is deprecated and is scheduled for deletion in\n",
      "    TF 2.20. Please use the LiteRT interpreter from the ai_edge_litert package.\n",
      "    See the [migration guide](https://ai.google.dev/edge/litert/migration)\n",
      "    for details.\n",
      "    \n",
      "\n"
     ]
    },
    {
     "name": "stdout",
     "output_type": "stream",
     "text": [
      "process_from_queueprocess_from_queueprocess_from_queue\n",
      "\n",
      "process_from_queueInitializing analyzer(s)Initializing analyzer(s)\n",
      "\n",
      "process_from_queue\n",
      "\n",
      "Initializing analyzer(s)Initializing analyzer(s)\n",
      "\n",
      "\n",
      "Labels loaded.process_from_queueInitializing analyzer(s)\n",
      "\n",
      "\n",
      "Labels loaded.load modelprocess_from_queueLabels loaded.Initializing analyzer(s)Labels loaded.\n",
      " \n",
      "\n",
      "\n",
      "Labels loaded.\n",
      "load modelload modelTrueload model\n",
      "Initializing analyzer(s)\n",
      "   \n",
      "TrueTrueload modelTrue\n",
      "Labels loaded.\n",
      "\n",
      "\n",
      " Labels loaded.load modelTrue\n",
      " \n",
      "Trueload model\n",
      " True\n",
      "Model loaded.\n",
      "Labels loaded.\n",
      "Model loaded.load_species_list_model\n",
      "\n",
      "Labels loaded.\n",
      "load_species_list_model\n",
      "Model loaded.\n",
      "Model loaded.Model loaded.Model loaded.Labels loaded.\n",
      "\n",
      "Model loaded.\n",
      "\n",
      "\n",
      "load_species_list_modelLabels loaded.\n",
      "Labels loaded.Labels loaded.Labels loaded.\n",
      "\n",
      "\n",
      "load_species_list_modelload_species_list_modelload_species_list_model\n",
      "\n",
      "\n",
      "load_species_list_model\n",
      "\n",
      "Meta model loaded.\n",
      "read_audio_data\n",
      "Meta model loaded.\n",
      "read_audio_data\n",
      "Meta model loaded.\n",
      "Meta model loaded.Meta model loaded.Meta model loaded.\n",
      "\n",
      "\n",
      "read_audio_dataread_audio_dataMeta model loaded.read_audio_dataread_audio_data\n",
      "\n",
      "\n",
      "\n",
      "\n",
      "read_audio_data\n",
      "read_audio_data: complete, read  20 chunks.\n",
      "analyze_recording 20251001_083000.wav\n",
      "recording has lon/lat\n",
      "set_predicted_species_list_from_position\n",
      "return_predicted_species_list\n",
      "37\n",
      "139 species loaded.\n",
      "read_audio_data: complete, read  20 chunks.\n",
      "analyze_recording 20251001_142000.wavread_audio_data: complete, read \n",
      " 20recording has lon/lat \n",
      "chunks.\n",
      "set_predicted_species_list_from_positionanalyze_recording\n",
      " return_predicted_species_list20251001_031000.wav\n",
      "\n",
      "read_audio_data: complete, read recording has lon/lat37 \n",
      "\n",
      "20set_predicted_species_list_from_position \n",
      "chunks.return_predicted_species_list\n",
      "analyze_recording\n",
      "37 139\n",
      " 20251001_151000.wavspecies loaded.\n",
      "\n",
      "recording has lon/latread_audio_data: complete, read \n",
      "139read_audio_data: complete, read set_predicted_species_list_from_position  species loaded.\n",
      " 20\n",
      "return_predicted_species_list20 \n",
      "read_audio_data: complete, read  chunks.chunks.37 \n",
      "\n",
      "20\n",
      "analyze_recordinganalyze_recording   chunks.20250930_201000.wav20251001_122000.wav\n",
      "recording has lon/lat\n",
      "\n",
      "\n",
      "139analyze_recordingrecording has lon/lat  set_predicted_species_list_from_position20251001_042000.wav\n",
      "\n",
      "\n",
      "recording has lon/latspecies loaded.set_predicted_species_list_from_positionreturn_predicted_species_list\n",
      "\n",
      "\n",
      "\n",
      "return_predicted_species_list37set_predicted_species_list_from_position\n",
      "\n",
      "37\n",
      "\n",
      "return_predicted_species_list\n",
      "37139\n",
      " species loaded.139 \n",
      "species loaded.139\n",
      " species loaded.\n",
      "process_from_queue\n",
      "Initializing analyzer(s)\n",
      "Labels loaded.\n",
      "load model True\n"
     ]
    },
    {
     "name": "stderr",
     "output_type": "stream",
     "text": [
      "/home/boulbi/Bureau/COURS/MoBi/ecoacoustics/.venv/lib/python3.13/site-packages/tensorflow/lite/python/interpreter.py:457: UserWarning:\n",
      "\n",
      "    Warning: tf.lite.Interpreter is deprecated and is scheduled for deletion in\n",
      "    TF 2.20. Please use the LiteRT interpreter from the ai_edge_litert package.\n",
      "    See the [migration guide](https://ai.google.dev/edge/litert/migration)\n",
      "    for details.\n",
      "    \n",
      "\n"
     ]
    },
    {
     "name": "stdout",
     "output_type": "stream",
     "text": [
      "Model loaded.\n",
      "Labels loaded.\n",
      "load_species_list_model\n",
      "Meta model loaded.\n",
      "read_audio_data\n",
      "read_audio_data: complete, read  20 chunks.\n",
      "analyze_recording 20251001_153000.wav\n",
      "recording has lon/lat\n",
      "set_predicted_species_list_from_position\n",
      "return_predicted_species_list\n",
      "37\n",
      "process_from_queue\n",
      "Initializing analyzer(s)\n",
      "139Labels loaded. \n",
      "load modelspecies loaded.\n",
      " True\n"
     ]
    },
    {
     "name": "stderr",
     "output_type": "stream",
     "text": [
      "/home/boulbi/Bureau/COURS/MoBi/ecoacoustics/.venv/lib/python3.13/site-packages/tensorflow/lite/python/interpreter.py:457: UserWarning:\n",
      "\n",
      "    Warning: tf.lite.Interpreter is deprecated and is scheduled for deletion in\n",
      "    TF 2.20. Please use the LiteRT interpreter from the ai_edge_litert package.\n",
      "    See the [migration guide](https://ai.google.dev/edge/litert/migration)\n",
      "    for details.\n",
      "    \n",
      "\n"
     ]
    },
    {
     "name": "stdout",
     "output_type": "stream",
     "text": [
      "process_from_queueprocess_from_queue\n",
      "\n",
      "process_from_queueInitializing analyzer(s)Initializing analyzer(s)\n",
      "\n",
      "Initializing analyzer(s)\n",
      "\n",
      "Labels loaded.Labels loaded.\n",
      "\n",
      "Labels loaded.process_from_queueload model\n",
      "load model\n",
      "  Initializing analyzer(s)load modelTrueTrue \n",
      "\n",
      "\n",
      "True"
     ]
    },
    {
     "name": "stderr",
     "output_type": "stream",
     "text": [
      "/home/boulbi/Bureau/COURS/MoBi/ecoacoustics/.venv/lib/python3.13/site-packages/tensorflow/lite/python/interpreter.py:457: UserWarning:\n",
      "\n",
      "    Warning: tf.lite.Interpreter is deprecated and is scheduled for deletion in\n",
      "    TF 2.20. Please use the LiteRT interpreter from the ai_edge_litert package.\n",
      "    See the [migration guide](https://ai.google.dev/edge/litert/migration)\n",
      "    for details.\n",
      "    \n",
      "\n"
     ]
    },
    {
     "name": "stdout",
     "output_type": "stream",
     "text": [
      "\n"
     ]
    },
    {
     "name": "stderr",
     "output_type": "stream",
     "text": [
      "/home/boulbi/Bureau/COURS/MoBi/ecoacoustics/.venv/lib/python3.13/site-packages/tensorflow/lite/python/interpreter.py:457: UserWarning:\n",
      "\n",
      "    Warning: tf.lite.Interpreter is deprecated and is scheduled for deletion in\n",
      "    TF 2.20. Please use the LiteRT interpreter from the ai_edge_litert package.\n",
      "    See the [migration guide](https://ai.google.dev/edge/litert/migration)\n",
      "    for details.\n",
      "    \n",
      "\n"
     ]
    },
    {
     "name": "stdout",
     "output_type": "stream",
     "text": [
      "Labels loaded."
     ]
    },
    {
     "name": "stderr",
     "output_type": "stream",
     "text": [
      "/home/boulbi/Bureau/COURS/MoBi/ecoacoustics/.venv/lib/python3.13/site-packages/tensorflow/lite/python/interpreter.py:457: UserWarning:\n",
      "\n",
      "    Warning: tf.lite.Interpreter is deprecated and is scheduled for deletion in\n",
      "    TF 2.20. Please use the LiteRT interpreter from the ai_edge_litert package.\n",
      "    See the [migration guide](https://ai.google.dev/edge/litert/migration)\n",
      "    for details.\n",
      "    \n",
      "\n"
     ]
    },
    {
     "name": "stdout",
     "output_type": "stream",
     "text": [
      "\n",
      "Model loaded.\n",
      "load modelLabels loaded. True\n",
      "\n",
      "load_species_list_model"
     ]
    },
    {
     "name": "stderr",
     "output_type": "stream",
     "text": [
      "/home/boulbi/Bureau/COURS/MoBi/ecoacoustics/.venv/lib/python3.13/site-packages/tensorflow/lite/python/interpreter.py:457: UserWarning:\n",
      "\n",
      "    Warning: tf.lite.Interpreter is deprecated and is scheduled for deletion in\n",
      "    TF 2.20. Please use the LiteRT interpreter from the ai_edge_litert package.\n",
      "    See the [migration guide](https://ai.google.dev/edge/litert/migration)\n",
      "    for details.\n",
      "    \n",
      "\n"
     ]
    },
    {
     "name": "stdout",
     "output_type": "stream",
     "text": [
      "\n",
      "Model loaded.Model loaded.\n",
      "\n",
      "Labels loaded.\n",
      "Labels loaded.\n",
      "load_species_list_modelModel loaded.load_species_list_model\n",
      "\n",
      "\n",
      "Labels loaded.\n",
      "process_from_queue\n",
      "Meta model loaded.\n",
      "Initializing analyzer(s)read_audio_dataload_species_list_model\n",
      "\n",
      "Model loaded.\n",
      "\n",
      "Meta model loaded.\n",
      "Labels loaded.Labels loaded.read_audio_dataMeta model loaded.\n",
      "\n",
      "\n",
      "\n",
      "load modelload_species_list_modelread_audio_data \n",
      "True\n",
      "\n",
      "read_audio_data: complete, read "
     ]
    },
    {
     "name": "stderr",
     "output_type": "stream",
     "text": [
      "/home/boulbi/Bureau/COURS/MoBi/ecoacoustics/.venv/lib/python3.13/site-packages/tensorflow/lite/python/interpreter.py:457: UserWarning:\n",
      "\n",
      "    Warning: tf.lite.Interpreter is deprecated and is scheduled for deletion in\n",
      "    TF 2.20. Please use the LiteRT interpreter from the ai_edge_litert package.\n",
      "    See the [migration guide](https://ai.google.dev/edge/litert/migration)\n",
      "    for details.\n",
      "    \n",
      "\n"
     ]
    },
    {
     "name": "stdout",
     "output_type": "stream",
     "text": [
      " Meta model loaded.20\n",
      " read_audio_data\n",
      "chunks.\n",
      "analyze_recordingread_audio_data: complete, read  20251001_141000.wav 20\n",
      " recording has lon/latchunks.\n",
      "read_audio_data: complete, read \n",
      "set_predicted_species_list_from_positionMeta model loaded.analyze_recording\n",
      " \n",
      " return_predicted_species_list2020250930_171000.wav\n",
      "read_audio_dataread_audio_data: complete, read \n",
      " \n",
      " 37chunks.recording has lon/lat\n",
      "20\n",
      "\n",
      "analyze_recording  chunks.set_predicted_species_list_from_positionModel loaded.\n",
      "20250930_191000.wav\n",
      "recording has lon/lat\n",
      "analyze_recording\n",
      "Labels loaded.\n",
      "139  return_predicted_species_list\n",
      "set_predicted_species_list_from_position20250930_220000.wav\n",
      "species loaded.37\n",
      "load_species_list_modelread_audio_data: complete, read  \n",
      "\n",
      "\n",
      "recording has lon/lat\n",
      "\n",
      "return_predicted_species_list20\n",
      " set_predicted_species_list_from_positionchunks.\n",
      "\n",
      "return_predicted_species_list13937analyze_recording  \n",
      "species loaded.20251001_054000.wav\n",
      "\n",
      "\n",
      "recording has lon/lat37\n",
      "\n",
      "Meta model loaded.set_predicted_species_list_from_position139\n",
      "\n",
      " return_predicted_species_list139read_audio_data \n",
      "species loaded.species loaded.\n",
      "\n",
      "37\n",
      "\n",
      "139 species loaded.\n",
      "read_audio_data: complete, read  20 chunks.\n",
      "analyze_recording 20251001_013000.wav\n",
      "recording has lon/lat\n",
      "set_predicted_species_list_from_position\n",
      "return_predicted_species_list\n",
      "37\n",
      "139 species loaded.\n",
      "process_from_queue\n",
      "Initializing analyzer(s)\n",
      "Labels loaded.\n",
      "load model True\n",
      "Model loaded.\n",
      "Labels loaded.\n",
      "load_species_list_model\n",
      "Meta model loaded.\n",
      "read_audio_data\n",
      "read_audio_data: complete, read  20 chunks.\n",
      "analyze_recording 20250930_212000.wav\n",
      "recording has lon/lat\n",
      "set_predicted_species_list_from_position\n",
      "return_predicted_species_list\n",
      "37\n",
      "139 species loaded.\n",
      "process_from_queue\n",
      "Initializing analyzer(s)\n",
      "Labels loaded.\n",
      "load modelprocess_from_queue True\n",
      "Initializing analyzer(s)\n",
      "\n",
      "Labels loaded.process_from_queue\n",
      "\n",
      "load modelInitializing analyzer(s) True\n",
      "\n",
      "Labels loaded.\n",
      "load model TrueModel loaded.\n",
      "\n",
      "Labels loaded.\n",
      "load_species_list_model\n",
      "Model loaded.\n",
      "Labels loaded.\n",
      "load_species_list_model\n",
      "Meta model loaded.\n",
      "read_audio_dataModel loaded.\n",
      "\n",
      "Labels loaded.\n",
      "load_species_list_model\n",
      "Meta model loaded.\n",
      "read_audio_data\n",
      "Meta model loaded.read_audio_data: complete, read \n",
      " process_from_queue20process_from_queueread_audio_data \n",
      "chunks.\n",
      "Initializing analyzer(s)Initializing analyzer(s)\n",
      "\n",
      "\n",
      "\n",
      "read_audio_data: complete, read Labels loaded.analyze_recordingLabels loaded. \n",
      "\n",
      " 20251001_044000.wav20 chunks.load model\n",
      " load model\n",
      "recording has lon/lat analyze_recordingTrue\n",
      "True\n",
      " set_predicted_species_list_from_position\n",
      "read_audio_data: complete, read 20251001_121000.wav\n",
      " \n",
      "return_predicted_species_list\n",
      "20 recording has lon/lat37chunks.\n",
      "\n",
      "\n",
      "set_predicted_species_list_from_position\n",
      "return_predicted_species_listanalyze_recording\n",
      " 37\n",
      "139 Model loaded.20251001_170000.wavModel loaded.\n",
      "\n",
      "\n",
      "species loaded.recording has lon/lat139Labels loaded. \n",
      "\n",
      "\n",
      "Labels loaded.load_species_list_modelspecies loaded.\n",
      "\n",
      "set_predicted_species_list_from_positionload_species_list_model\n",
      "\n",
      "return_predicted_species_list\n",
      "\n",
      "37\n",
      "process_from_queue\n",
      "Meta model loaded.\n",
      "read_audio_dataInitializing analyzer(s)Meta model loaded.\n",
      "\n",
      "\n",
      "139 read_audio_data\n",
      "Labels loaded.species loaded.\n",
      "\n",
      "load model True\n",
      "read_audio_data: complete, read read_audio_data: complete, read   20 20 chunks.chunks.\n",
      "\n",
      "analyze_recordinganalyze_recording  20251001_093000.wav20251001_062000.wav\n",
      "\n",
      "recording has lon/latrecording has lon/lat\n",
      "\n",
      "Model loaded.set_predicted_species_list_from_position\n",
      "\n",
      "set_predicted_species_list_from_positionreturn_predicted_species_listLabels loaded.\n",
      "\n",
      "37\n",
      "load_species_list_model\n",
      "return_predicted_species_list\n",
      "\n",
      "37\n",
      "139 species loaded.Meta model loaded.\n",
      "139\n",
      " read_audio_dataspecies loaded.\n",
      "\n",
      "read_audio_data: complete, read  20 chunks.\n",
      "analyze_recording 20250930_193000.wav\n",
      "recording has lon/lat\n",
      "set_predicted_species_list_from_position\n",
      "return_predicted_species_list\n",
      "37\n",
      "139 species loaded.\n",
      "process_from_queue\n",
      "Initializing analyzer(s)\n",
      "Labels loaded.\n",
      "load model True\n",
      "Model loaded.\n",
      "Labels loaded.\n",
      "load_species_list_model\n",
      "Meta model loaded.\n",
      "read_audio_data\n",
      "read_audio_data: complete, read  20 chunks.\n",
      "analyze_recording 20251001_023000.wav\n",
      "recording has lon/lat\n",
      "set_predicted_species_list_from_position\n",
      "return_predicted_species_list\n",
      "37\n",
      "139 species loaded.\n",
      "process_from_queue\n",
      "process_from_queueInitializing analyzer(s)\n",
      "\n",
      "Initializing analyzer(s)\n",
      "Labels loaded.\n",
      "Labels loaded.\n",
      "load modelload model  TrueTrue\n",
      "\n",
      "process_from_queue\n",
      "Initializing analyzer(s)\n",
      "process_from_queueLabels loaded.\n",
      "\n",
      "Initializing analyzer(s)load modelModel loaded.\n",
      " \n",
      "TrueModel loaded.\n",
      "\n",
      "Labels loaded.Labels loaded.\n",
      "\n",
      "load_species_list_modelLabels loaded.\n",
      "\n",
      "load_species_list_modelload model\n",
      " True\n",
      "Meta model loaded.\n",
      "read_audio_data\n",
      "Meta model loaded.\n",
      "read_audio_data\n",
      "Model loaded.\n",
      "Labels loaded.read_audio_data: complete, read \n",
      " load_species_list_modelModel loaded.\n",
      "20\n",
      " chunks.Labels loaded.\n",
      "\n",
      "read_audio_data: complete, read load_species_list_modelMeta model loaded.analyze_recording\n",
      " \n",
      " 20read_audio_data20251001_161000.wav\n",
      " \n",
      "recording has lon/latchunks.\n",
      "\n",
      "analyze_recordingset_predicted_species_list_from_position 20250930_195000.wav\n",
      "Meta model loaded.return_predicted_species_list\n",
      "\n",
      "recording has lon/latread_audio_data\n",
      "\n",
      "\n",
      "set_predicted_species_list_from_position37read_audio_data: complete, read \n",
      " \n",
      "return_predicted_species_list\n",
      "20139  37species loaded.chunks.\n",
      "\n",
      "\n",
      "analyze_recording 20250930_180000.wavread_audio_data: complete, read  \n",
      "13920 species loaded. recording has lon/latchunks.\n",
      "\n",
      "\n",
      "set_predicted_species_list_from_position\n",
      "analyze_recording return_predicted_species_list20250930_170000.wav\n",
      "\n",
      "recording has lon/lat37\n",
      "set_predicted_species_list_from_position\n",
      "process_from_queue\n",
      "\n",
      "Initializing analyzer(s)\n",
      "return_predicted_species_list139 \n",
      "Labels loaded.species loaded.37\n",
      "\n",
      "load model\n",
      " True\n",
      "139 species loaded.\n",
      "Model loaded.\n",
      "Labels loaded.\n",
      "load_species_list_model\n",
      "Meta model loaded.\n",
      "read_audio_dataprocess_from_queue\n",
      "\n",
      "Initializing analyzer(s)\n",
      "Labels loaded.\n",
      "load model True\n",
      "read_audio_data: complete, read  20 chunks.\n",
      "analyze_recording 20250930_190000.wav\n",
      "recording has lon/lat\n",
      "set_predicted_species_list_from_position\n",
      "return_predicted_species_list\n",
      "37\n",
      "Model loaded.\n",
      "139 Labels loaded.\n",
      "species loaded.\n",
      "load_species_list_model\n",
      "Meta model loaded.\n",
      "read_audio_data\n",
      "read_audio_data: complete, read  20 chunks.\n",
      "analyze_recording 20251001_025000.wav\n",
      "recording has lon/lat\n",
      "set_predicted_species_list_from_position\n",
      "return_predicted_species_list\n",
      "37\n",
      "139 species loaded.\n",
      "process_from_queue\n",
      "Initializing analyzer(s)\n",
      "Labels loaded.\n",
      "load model True\n",
      "Model loaded.\n",
      "Labels loaded.\n",
      "load_species_list_model\n",
      "Meta model loaded.\n",
      "read_audio_data\n",
      "read_audio_data: complete, read  20 chunks.\n",
      "analyze_recording 20250930_224000.wavprocess_from_queue\n",
      "\n",
      "recording has lon/latInitializing analyzer(s)\n",
      "\n",
      "set_predicted_species_list_from_position\n",
      "return_predicted_species_list\n",
      "37\n",
      "Labels loaded.\n",
      "load model True\n",
      "139 species loaded.\n",
      "process_from_queue\n",
      "Initializing analyzer(s)\n",
      "process_from_queueLabels loaded.\n",
      "\n",
      "Initializing analyzer(s)load model\n",
      " Labels loaded.Model loaded.\n",
      "True\n",
      "load model\n",
      " Labels loaded.True\n",
      "\n",
      "load_species_list_model\n",
      "Model loaded.\n",
      "Meta model loaded.process_from_queue\n",
      "Labels loaded.\n",
      "\n",
      "Initializing analyzer(s)read_audio_dataload_species_list_model\n",
      "\n",
      "\n",
      "Model loaded.Labels loaded.\n",
      "\n",
      "Labels loaded.\n",
      "load_species_list_model\n",
      "Meta model loaded.load model \n",
      "read_audio_dataTrue\n",
      "\n",
      "Meta model loaded.\n",
      "read_audio_data\n",
      "Model loaded.\n",
      "read_audio_data: complete, read read_audio_data: complete, read   2020 Labels loaded. chunks.\n",
      "chunks.\n",
      "load_species_list_model\n",
      "analyze_recording\n",
      "analyze_recordingread_audio_data: complete, read    20251001_094000.wav2020251001_020000.wav\n",
      " \n",
      "recording has lon/latchunks.\n",
      "\n",
      "recording has lon/latanalyze_recordingset_predicted_species_list_from_positionMeta model loaded.\n",
      " set_predicted_species_list_from_position20251001_135000.wav\n",
      "\n",
      "read_audio_data\n",
      "\n",
      "return_predicted_species_list\n",
      "recording has lon/lat\n",
      "return_predicted_species_list37\n",
      "\n",
      "set_predicted_species_list_from_position\n",
      "37\n",
      "\n",
      "return_predicted_species_list\n",
      "37139\n",
      "139 species loaded. \n",
      "species loaded.read_audio_data: complete, read \n",
      " 13920 species loaded. \n",
      "chunks.\n",
      "analyze_recording 20251001_113000.wav\n",
      "recording has lon/lat\n",
      "set_predicted_species_list_from_position\n",
      "return_predicted_species_list\n",
      "37\n",
      "139 species loaded.\n",
      "process_from_queue\n",
      "Initializing analyzer(s)\n",
      "Labels loaded.\n",
      "load model True\n",
      "Model loaded.\n",
      "process_from_queueLabels loaded.\n",
      "\n",
      "Initializing analyzer(s)\n",
      "load_species_list_modelLabels loaded.\n",
      "\n",
      "load model True\n",
      "Meta model loaded.\n",
      "read_audio_data\n",
      "Model loaded.\n",
      "read_audio_data: complete, read  Labels loaded.\n",
      "20load_species_list_model \n",
      "chunks.\n",
      "analyze_recording 20251001_002000.wavMeta model loaded.\n",
      "recording has lon/lat\n",
      "read_audio_data\n",
      "\n",
      "set_predicted_species_list_from_position\n",
      "return_predicted_species_list\n",
      "37\n",
      "139 species loaded.\n",
      "read_audio_data: complete, read  20 chunks.\n",
      "analyze_recording 20250930_234000.wav\n",
      "recording has lon/lat\n",
      "set_predicted_species_list_from_position\n",
      "return_predicted_species_list\n",
      "37\n",
      "139 species loaded.\n",
      "process_from_queue\n",
      "Initializing analyzer(s)\n",
      "Labels loaded.\n",
      "load model Trueprocess_from_queue\n",
      "\n",
      "Initializing analyzer(s)\n",
      "Labels loaded.\n",
      "load model True\n",
      "Model loaded.\n",
      "Model loaded.Labels loaded.\n",
      "\n",
      "Labels loaded.\n",
      "load_species_list_modelload_species_list_model\n",
      "\n",
      "Meta model loaded.Meta model loaded.\n",
      "\n",
      "read_audio_dataread_audio_data\n",
      "\n",
      "read_audio_data: complete, read  read_audio_data: complete, read 20  20chunks. \n",
      "chunks.analyze_recording\n",
      " analyze_recording20251001_081000.wav \n",
      "20251001_003000.wavrecording has lon/lat\n",
      "\n",
      "recording has lon/latset_predicted_species_list_from_position\n",
      "set_predicted_species_list_from_position\n",
      "\n",
      "return_predicted_species_listreturn_predicted_species_list\n",
      "process_from_queue\n",
      "\n",
      "37\n",
      "Initializing analyzer(s)37\n",
      "\n",
      "Labels loaded.139\n",
      " load modelspecies loaded.139  \n",
      "species loaded.True\n",
      "\n",
      "Model loaded.\n",
      "Labels loaded.\n",
      "\n",
      "load_species_list_modelMeta model loaded.\n",
      "read_audio_data\n",
      "process_from_queue\n",
      "Initializing analyzer(s)\n",
      "read_audio_data: complete, read  Labels loaded.20\n",
      " load modelchunks. \n",
      "Trueanalyze_recording\n",
      " 20250930_223000.wav\n",
      "recording has lon/latprocess_from_queue\n",
      "\n",
      "set_predicted_species_list_from_position\n",
      "Initializing analyzer(s)return_predicted_species_list\n",
      "\n",
      "Labels loaded.37\n",
      "\n",
      "load modelModel loaded. \n",
      "True\n",
      "139Labels loaded. \n",
      "species loaded.load_species_list_model\n",
      "\n",
      "Model loaded.\n",
      "process_from_queueLabels loaded.\n",
      "\n",
      "load_species_list_modelInitializing analyzer(s)\n",
      "\n",
      "Labels loaded.\n",
      "Meta model loaded.load model\n",
      " read_audio_dataMeta model loaded.\n",
      "True\n",
      "\n",
      "read_audio_data\n",
      "read_audio_data: complete, read  20 read_audio_data: complete, read  chunks.\n",
      "20analyze_recording Model loaded.\n",
      " \n",
      "20250930_211000.wavchunks.\n",
      "recording has lon/latLabels loaded.analyze_recording\n",
      " \n",
      "set_predicted_species_list_from_positionload_species_list_model\n",
      "20251001_103000.wav\n",
      "return_predicted_species_list\n",
      "\n",
      "37recording has lon/lat\n",
      "\n",
      "set_predicted_species_list_from_positionMeta model loaded.\n",
      "\n",
      "read_audio_data\n",
      "return_predicted_species_list139 \n",
      "species loaded.37\n",
      "\n",
      "139 species loaded.\n",
      "read_audio_data: complete, read  20 chunks.\n",
      "analyze_recording 20250930_184000.wav\n",
      "recording has lon/lat\n",
      "set_predicted_species_list_from_position\n",
      "return_predicted_species_list\n",
      "37\n",
      "process_from_queue\n",
      "Initializing analyzer(s)\n",
      "Labels loaded.\n",
      "139load model  species loaded.True\n",
      "\n",
      "Model loaded.\n",
      "Labels loaded.\n",
      "load_species_list_model\n",
      "Meta model loaded.\n",
      "read_audio_data\n",
      "read_audio_data: complete, read  20 chunks.\n",
      "analyze_recording 20251001_001000.wav\n",
      "recording has lon/lat\n",
      "set_predicted_species_list_from_position\n",
      "return_predicted_species_list\n",
      "37\n",
      "139 species loaded.\n",
      "process_from_queue\n",
      "Initializing analyzer(s)\n",
      "Labels loaded.\n",
      "load model True\n",
      "process_from_queue\n",
      "Initializing analyzer(s)\n",
      "Labels loaded.\n",
      "load model TrueModel loaded.\n",
      "\n",
      "Labels loaded.\n",
      "load_species_list_model\n",
      "Meta model loaded.Model loaded.\n",
      "\n",
      "read_audio_data\n",
      "Labels loaded.\n",
      "load_species_list_model\n",
      "read_audio_data: complete, read Meta model loaded. 20\n",
      " read_audio_data\n",
      "chunks.\n",
      "analyze_recording 20251001_041000.wav\n",
      "recording has lon/lat\n",
      "set_predicted_species_list_from_position\n",
      "return_predicted_species_list\n",
      "37\n",
      "read_audio_data: complete, read  139 20process_from_queuespecies loaded. \n",
      "\n",
      "Initializing analyzer(s)chunks.\n",
      "\n",
      "analyze_recording Labels loaded.20251001_074000.wav\n",
      "\n",
      "load modelrecording has lon/lat \n",
      "Trueset_predicted_species_list_from_position\n",
      "\n",
      "return_predicted_species_list\n",
      "37\n",
      "Model loaded.139\n",
      " Labels loaded.species loaded.\n",
      "\n",
      "load_species_list_model\n",
      "Meta model loaded.\n",
      "read_audio_data\n",
      "read_audio_data: complete, read  20 chunks.\n",
      "analyze_recording 20251001_154000.wav\n",
      "recording has lon/lat\n",
      "set_predicted_species_list_from_position\n",
      "return_predicted_species_list\n",
      "37\n",
      "139 species loaded.\n",
      "process_from_queue\n",
      "Initializing analyzer(s)\n",
      "Labels loaded.process_from_queue\n",
      "\n",
      "Initializing analyzer(s)load model\n",
      " TrueLabels loaded.\n",
      "\n",
      "load model True\n",
      "Model loaded.\n",
      "Labels loaded.Model loaded.\n",
      "load_species_list_model\n",
      "\n",
      "Labels loaded.\n",
      "load_species_list_modelMeta model loaded.\n",
      "\n",
      "process_from_queue\n",
      "read_audio_dataInitializing analyzer(s)\n",
      "\n",
      "Labels loaded.\n",
      "Meta model loaded.load model\n",
      "read_audio_data \n",
      "True\n",
      "read_audio_data: complete, read read_audio_data: complete, read   20 20chunks. chunks.\n",
      "\n",
      "analyze_recordinganalyze_recordingModel loaded.  \n",
      "20250930_182000.wav20250930_194000.wav\n",
      "\n",
      "recording has lon/latLabels loaded.recording has lon/lat\n",
      "\n",
      "\n",
      "load_species_list_modelset_predicted_species_list_from_positionset_predicted_species_list_from_position\n",
      "\n",
      "\n",
      "\n",
      "return_predicted_species_listreturn_predicted_species_list\n",
      "3737\n",
      "\n",
      "139Meta model loaded. \n",
      "species loaded.read_audio_data\n",
      "\n",
      "139 species loaded.\n",
      "read_audio_data: complete, read  20 chunks.\n",
      "analyze_recording 20251001_124000.wav\n",
      "process_from_queuerecording has lon/lat\n",
      "\n",
      "Initializing analyzer(s)set_predicted_species_list_from_position\n",
      "\n",
      "return_predicted_species_listLabels loaded.\n",
      "\n",
      "load model37 \n",
      "\n",
      "True139 species loaded.\n",
      "Model loaded.\n",
      "Labels loaded.\n",
      "load_species_list_model\n",
      "Meta model loaded.\n",
      "read_audio_data\n",
      "read_audio_data: complete, read  20 chunks.\n",
      "analyze_recording 20251001_080000.wav\n",
      "recording has lon/lat\n",
      "set_predicted_species_list_from_position\n",
      "return_predicted_species_list\n",
      "37\n",
      "139 species loaded.\n",
      "process_from_queue\n",
      "Initializing analyzer(s)\n",
      "Labels loaded.\n",
      "load model True\n",
      "process_from_queue\n",
      "Initializing analyzer(s)\n",
      "Labels loaded.\n",
      "load model Model loaded.True\n",
      "\n",
      "Labels loaded.\n",
      "load_species_list_model\n",
      "Meta model loaded.\n",
      "read_audio_data\n",
      "process_from_queue\n",
      "Initializing analyzer(s)\n",
      "Model loaded.\n",
      "Labels loaded.\n",
      "Labels loaded.load model\n",
      " load_species_list_modelTrue\n",
      "\n",
      "read_audio_data: complete, read  20Meta model loaded.\n",
      " read_audio_data\n",
      "chunks.\n",
      "analyze_recording 20250930_172000.wavModel loaded.\n",
      "\n",
      "recording has lon/lat\n",
      "read_audio_data: complete, read  set_predicted_species_list_from_position20\n",
      " Labels loaded.\n",
      "chunks.return_predicted_species_listload_species_list_model\n",
      "\n",
      "\n",
      "37analyze_recording \n",
      "20251001_091000.wav\n",
      "recording has lon/latMeta model loaded.139\n",
      "\n",
      " read_audio_dataset_predicted_species_list_from_position\n",
      "species loaded.\n",
      "return_predicted_species_list\n",
      "\n",
      "37\n",
      "139 species loaded.\n",
      "read_audio_data: complete, read  20 chunks.\n",
      "analyze_recording 20251001_010000.wav\n",
      "recording has lon/lat\n",
      "set_predicted_species_list_from_position\n",
      "return_predicted_species_list\n",
      "37\n",
      "139 species loaded.\n",
      "process_from_queue\n",
      "Initializing analyzer(s)\n",
      "Labels loaded.\n",
      "load model True\n",
      "Model loaded.\n",
      "Labels loaded.\n",
      "load_species_list_model\n",
      "process_from_queue\n",
      "Initializing analyzer(s)\n",
      "process_from_queueLabels loaded.Meta model loaded.\n",
      "\n",
      "\n",
      "Initializing analyzer(s)read_audio_data\n",
      "load model \n",
      "Labels loaded.True\n",
      "load model \n",
      "True\n",
      "read_audio_data: complete, read Model loaded.\n",
      " Labels loaded.20 \n",
      "load_species_list_modelchunks.\n",
      "analyze_recording\n",
      " Model loaded.\n",
      "20251001_104000.wav\n",
      "recording has lon/lat\n",
      "Labels loaded.\n",
      "set_predicted_species_list_from_positionMeta model loaded.\n",
      "load_species_list_model\n",
      "\n",
      "read_audio_data\n",
      "return_predicted_species_list\n",
      "37\n",
      "Meta model loaded.139\n",
      " read_audio_data\n",
      "species loaded.\n",
      "read_audio_data: complete, read  20 chunks.\n",
      "analyze_recording 20250930_222000.wav\n",
      "read_audio_data: complete, read  recording has lon/lat20\n",
      "set_predicted_species_list_from_position\n",
      " chunks.return_predicted_species_list\n",
      "37\n",
      "\n",
      "process_from_queueanalyze_recording 20250930_205000.wav\n",
      "Initializing analyzer(s)\n",
      "\n",
      "recording has lon/latLabels loaded.139\n",
      "\n",
      " set_predicted_species_list_from_positionload modelspecies loaded.\n",
      " \n",
      "return_predicted_species_listTrue\n",
      "\n",
      "37\n",
      "139 species loaded.\n",
      "Model loaded.\n",
      "Labels loaded.\n",
      "load_species_list_model\n",
      "Meta model loaded.\n",
      "read_audio_data\n",
      "read_audio_data: complete, read  20 chunks.\n",
      "analyze_recording 20251001_125000.wav\n",
      "recording has lon/lat\n",
      "set_predicted_species_list_from_position\n",
      "return_predicted_species_list\n",
      "37\n",
      "139 species loaded.\n",
      "process_from_queue\n",
      "Initializing analyzer(s)\n",
      "Labels loaded.\n",
      "load model True\n",
      "Model loaded.\n",
      "Labels loaded.\n",
      "load_species_list_model\n",
      "process_from_queue\n",
      "Initializing analyzer(s)Meta model loaded.\n",
      "\n",
      "read_audio_dataLabels loaded.\n",
      "\n",
      "load model True\n",
      "read_audio_data: complete, read  20 chunks.\n",
      "Model loaded.analyze_recording\n",
      " 20251001_143000.wavLabels loaded.\n",
      "\n",
      "recording has lon/latload_species_list_model\n",
      "set_predicted_species_list_from_position\n",
      "\n",
      "return_predicted_species_list\n",
      "37\n",
      "Meta model loaded.\n",
      "139read_audio_data \n",
      "species loaded.\n",
      "read_audio_data: complete, read  20 chunks.\n",
      "analyze_recording 20250930_221000.wav\n",
      "recording has lon/lat\n",
      "set_predicted_species_list_from_position\n",
      "return_predicted_species_list\n",
      "37\n",
      "139 species loaded.\n",
      "process_from_queue\n",
      "Initializing analyzer(s)\n",
      "Labels loaded.\n",
      "load model True\n",
      "Model loaded.\n",
      "Labels loaded.\n",
      "load_species_list_model\n",
      "Meta model loaded.\n",
      "read_audio_data\n",
      "process_from_queue\n",
      "Initializing analyzer(s)read_audio_data: complete, read \n",
      " 20Labels loaded. chunks.\n",
      "load model\n",
      "analyze_recording True\n",
      " 20251001_164000.wav\n",
      "recording has lon/lat\n",
      "set_predicted_species_list_from_position\n",
      "return_predicted_species_list\n",
      "37\n",
      "Model loaded.139\n",
      " species loaded.\n",
      "Labels loaded.\n",
      "load_species_list_model\n",
      "process_from_queueMeta model loaded.Initializing analyzer(s)\n",
      "\n",
      "read_audio_data\n",
      "\n",
      "Labels loaded.\n",
      "load model True\n",
      "Model loaded.\n",
      "Labels loaded.read_audio_data: complete, read \n",
      "load_species_list_model \n",
      "20process_from_queue \n",
      "chunks.\n",
      "Initializing analyzer(s)analyze_recording\n",
      " 20251001_065000.wavMeta model loaded.\n",
      "Labels loaded.read_audio_data\n",
      "\n",
      "load model\n",
      "recording has lon/lat \n",
      "Trueset_predicted_species_list_from_position\n",
      "\n",
      "return_predicted_species_list\n",
      "37\n",
      "read_audio_data: complete, read  20139  chunks.species loaded.\n",
      "\n",
      "analyze_recording 20251001_061000.wav\n",
      "recording has lon/lat\n",
      "set_predicted_species_list_from_position\n",
      "Model loaded.return_predicted_species_list\n",
      "\n",
      "37Labels loaded.\n",
      "load_species_list_model\n",
      "\n",
      "139 species loaded.Meta model loaded.\n",
      "\n",
      "read_audio_data\n",
      "read_audio_data: complete, read  process_from_queue\n",
      "20Initializing analyzer(s)\n",
      " Labels loaded.chunks.\n",
      "\n",
      "load model analyze_recordingTrue \n",
      "20251001_130000.wav\n",
      "recording has lon/lat\n",
      "set_predicted_species_list_from_position\n",
      "return_predicted_species_list\n",
      "37\n",
      "139Model loaded. \n",
      "species loaded.\n",
      "Labels loaded.\n",
      "load_species_list_model\n",
      "Meta model loaded.\n",
      "read_audio_data\n",
      "read_audio_data: complete, read  20 chunks.\n",
      "analyze_recording 20250930_192000.wav\n",
      "recording has lon/lat\n",
      "set_predicted_species_list_from_position\n",
      "return_predicted_species_list\n",
      "37\n",
      "139 species loaded.\n",
      "process_from_queue\n",
      "Initializing analyzer(s)\n",
      "Labels loaded.\n",
      "load model True\n",
      "Model loaded.\n",
      "Labels loaded.\n",
      "load_species_list_model\n",
      "process_from_queue\n",
      "Initializing analyzer(s)\n",
      "Meta model loaded.\n",
      "read_audio_dataLabels loaded.\n",
      "\n",
      "load model True\n",
      "read_audio_data: complete, read  20 chunks.\n",
      "Model loaded.analyze_recording\n",
      " 20251001_070000.wav\n",
      "Labels loaded.recording has lon/lat\n",
      "\n",
      "load_species_list_model\n",
      "set_predicted_species_list_from_position\n",
      "return_predicted_species_list\n",
      "37\n",
      "Meta model loaded.\n",
      "read_audio_data139\n",
      " species loaded.\n",
      "process_from_queue\n",
      "Initializing analyzer(s)\n",
      "Labels loaded.\n",
      "load model Trueread_audio_data: complete, read \n",
      " 20 chunks.\n",
      "analyze_recording 20251001_111000.wavModel loaded.\n",
      "\n",
      "recording has lon/lat\n",
      "set_predicted_species_list_from_positionLabels loaded.\n",
      "load_species_list_model\n",
      "\n",
      "return_predicted_species_list\n",
      "37\n",
      "process_from_queue\n",
      "Meta model loaded.Initializing analyzer(s)\n",
      "\n",
      "139read_audio_data Labels loaded.\n",
      "species loaded.\n",
      "load model \n",
      "True\n",
      "read_audio_data: complete, read  20 chunks.\n",
      "analyze_recording Model loaded.\n",
      "20251001_053000.wav\n",
      "recording has lon/latLabels loaded.\n",
      "\n",
      "set_predicted_species_list_from_position\n",
      "load_species_list_model\n",
      "return_predicted_species_list\n",
      "37\n",
      "139Meta model loaded.\n",
      "read_audio_data species loaded.\n",
      "\n",
      "read_audio_data: complete, read  20 chunks.\n",
      "analyze_recording 20250930_185000.wav\n",
      "recording has lon/lat\n",
      "process_from_queue\n",
      "set_predicted_species_list_from_position\n",
      "Initializing analyzer(s)return_predicted_species_list\n",
      "Labels loaded.\n",
      "\n",
      "load model37 True\n",
      "\n",
      "139 species loaded.\n",
      "Model loaded.\n",
      "Labels loaded.\n",
      "load_species_list_model\n",
      "Meta model loaded.\n",
      "read_audio_data\n",
      "read_audio_data: complete, read  20 chunks.\n",
      "analyze_recording 20251001_022000.wav\n",
      "recording has lon/lat\n",
      "set_predicted_species_list_from_position\n",
      "return_predicted_species_list\n",
      "37\n",
      "139 species loaded.\n",
      "process_from_queue\n",
      "Initializing analyzer(s)\n",
      "Labels loaded.\n",
      "load model True\n",
      "process_from_queue\n",
      "Initializing analyzer(s)\n",
      "Labels loaded.\n",
      "load model TrueModel loaded.\n",
      "\n",
      "Labels loaded.\n",
      "load_species_list_model\n",
      "Model loaded.\n",
      "Labels loaded.Meta model loaded.\n",
      "load_species_list_model\n",
      "\n",
      "read_audio_data\n",
      "Meta model loaded.\n",
      "read_audio_data\n",
      "read_audio_data: complete, read  20 chunks.\n",
      "analyze_recording read_audio_data: complete, read 20251001_050000.wav \n",
      "recording has lon/lat20\n",
      " set_predicted_species_list_from_positionchunks.\n",
      "\n",
      "return_predicted_species_listanalyze_recording\n",
      " 20250930_225000.wav37\n",
      "\n",
      "recording has lon/lat\n",
      "set_predicted_species_list_from_position\n",
      "139return_predicted_species_list\n",
      " 37species loaded.\n",
      "\n",
      "139 species loaded.\n",
      "process_from_queue\n",
      "Initializing analyzer(s)\n",
      "Labels loaded.\n",
      "load model True\n",
      "Model loaded.\n",
      "Labels loaded.\n",
      "load_species_list_model\n",
      "Meta model loaded.\n",
      "read_audio_data\n",
      "process_from_queue\n",
      "Initializing analyzer(s)\n",
      "Labels loaded.\n",
      "read_audio_data: complete, read load model  20 Truechunks.\n",
      "\n",
      "analyze_recording 20250930_232000.wav\n",
      "recording has lon/lat\n",
      "set_predicted_species_list_from_position\n",
      "return_predicted_species_list\n",
      "37\n",
      "Model loaded.139\n",
      " Labels loaded.species loaded.\n",
      "\n",
      "load_species_list_model\n",
      "Meta model loaded.\n",
      "read_audio_data\n",
      "read_audio_data: complete, read process_from_queue 20\n",
      "Initializing analyzer(s)\n",
      " chunks.Labels loaded.\n",
      "\n",
      "analyze_recording 20251001_004000.wav\n",
      "load modelrecording has lon/lat True\n",
      "\n",
      "process_from_queueset_predicted_species_list_from_position\n",
      "\n",
      "return_predicted_species_listInitializing analyzer(s)\n",
      "\n",
      "Labels loaded.37\n",
      "\n",
      "load model True139 \n",
      "species loaded.\n",
      "Model loaded.\n",
      "Labels loaded.\n",
      "load_species_list_model\n",
      "Model loaded.\n",
      "Meta model loaded.Labels loaded.\n",
      "\n",
      "read_audio_dataload_species_list_model\n",
      "\n",
      "process_from_queue\n",
      "Initializing analyzer(s)\n",
      "Meta model loaded.\n",
      "read_audio_dataLabels loaded.\n",
      "\n",
      "load model True\n",
      "read_audio_data: complete, read  20 chunks.\n",
      "read_audio_data: complete, read analyze_recording  Model loaded.2020251001_105000.wav \n",
      "chunks.\n",
      "\n",
      "analyze_recordingLabels loaded. \n",
      "recording has lon/lat\n",
      "load_species_list_model20250930_215000.wav\n",
      "set_predicted_species_list_from_position\n",
      "recording has lon/lat\n",
      "\n",
      "set_predicted_species_list_from_positionreturn_predicted_species_list\n",
      "\n",
      "return_predicted_species_list37\n",
      "\n",
      "37Meta model loaded.\n",
      "\n",
      "read_audio_data\n",
      "139 species loaded.139\n",
      " species loaded.\n",
      "read_audio_data: complete, read  20 chunks.\n",
      "analyze_recording 20251001_043000.wav\n",
      "recording has lon/lat\n",
      "set_predicted_species_list_from_position\n",
      "return_predicted_species_list\n",
      "37\n",
      "139 species loaded.\n",
      "process_from_queue\n",
      "Initializing analyzer(s)\n",
      "Labels loaded.\n",
      "load model True\n",
      "process_from_queue\n",
      "Initializing analyzer(s)Model loaded.\n",
      "\n",
      "Labels loaded.Labels loaded.\n",
      "load model\n",
      " True\n",
      "load_species_list_model\n",
      "Meta model loaded.\n",
      "read_audio_data\n",
      "Model loaded.read_audio_data: complete, read \n",
      " 20Labels loaded.\n",
      " chunks.load_species_list_model\n",
      "\n",
      "analyze_recording 20251001_032000.wav\n",
      "recording has lon/lat\n",
      "set_predicted_species_list_from_position\n",
      "return_predicted_species_listMeta model loaded.\n",
      "\n",
      "read_audio_data\n",
      "37\n",
      "139 species loaded.\n",
      "read_audio_data: complete, read  20 chunks.\n",
      "analyze_recording 20251001_045000.wav\n",
      "recording has lon/lat\n",
      "set_predicted_species_list_from_position\n",
      "return_predicted_species_list\n",
      "37\n",
      "139 species loaded.\n",
      "process_from_queue\n",
      "Initializing analyzer(s)\n",
      "Labels loaded.\n",
      "load model True\n",
      "Model loaded.\n",
      "Labels loaded.\n",
      "load_species_list_model\n",
      "process_from_queue\n",
      "Initializing analyzer(s)\n",
      "Meta model loaded.process_from_queueLabels loaded.\n",
      "\n",
      "\n",
      "read_audio_dataInitializing analyzer(s)load model\n",
      " \n",
      "TrueLabels loaded.\n",
      "\n",
      "load model True\n",
      "read_audio_data: complete, read  20 chunks.\n",
      "analyze_recording 20251001_163000.wavModel loaded.\n",
      "\n",
      "process_from_queuerecording has lon/lat\n",
      "\n",
      "Labels loaded.set_predicted_species_list_from_positionInitializing analyzer(s)\n",
      "\n",
      "Model loaded.\n",
      "load_species_list_modelreturn_predicted_species_list\n",
      "\n",
      "\n",
      "Labels loaded.Labels loaded.37\n",
      "\n",
      "\n",
      "load modelload_species_list_model \n",
      "TrueMeta model loaded.\n",
      "139\n",
      " read_audio_dataspecies loaded.\n",
      "Meta model loaded.\n",
      "\n",
      "read_audio_data\n",
      "Model loaded.read_audio_data: complete, read \n",
      " 20 read_audio_data: complete, read chunks. Labels loaded.20\n",
      "\n",
      " load_species_list_modelanalyze_recordingchunks.\n",
      "\n",
      "analyze_recording  20251001_005000.wav\n",
      "20251001_100000.wavrecording has lon/lat\n",
      "\n",
      "recording has lon/latset_predicted_species_list_from_position\n",
      "\n",
      "Meta model loaded.set_predicted_species_list_from_positionreturn_predicted_species_list\n",
      "\n",
      "\n",
      "return_predicted_species_listread_audio_data37\n",
      "\n",
      "37\n",
      "\n",
      "139 139species loaded. \n",
      "species loaded.\n",
      "read_audio_data: complete, read  20 chunks.\n",
      "analyze_recording 20251001_014000.wav\n",
      "recording has lon/lat\n",
      "set_predicted_species_list_from_position\n",
      "return_predicted_species_list\n",
      "37\n",
      "139 species loaded.\n",
      "process_from_queue\n",
      "Initializing analyzer(s)\n",
      "Labels loaded.\n",
      "load model True\n",
      "Model loaded.\n",
      "Labels loaded.\n",
      "load_species_list_model\n",
      "Meta model loaded.\n",
      "read_audio_data\n",
      "read_audio_data: complete, read  20 chunks.\n",
      "analyze_recording 20251001_144000.wav\n",
      "recording has lon/lat\n",
      "set_predicted_species_list_from_position\n",
      "return_predicted_species_list\n",
      "37\n",
      "139 species loaded.\n",
      "process_from_queue\n",
      "Initializing analyzer(s)\n",
      "Labels loaded.\n",
      "load model True\n",
      "process_from_queue\n",
      "Initializing analyzer(s)\n",
      "Model loaded.\n",
      "Labels loaded.\n",
      "Labels loaded.\n",
      "load model load_species_list_model\n",
      "True\n",
      "Meta model loaded.\n",
      "read_audio_data\n",
      "Model loaded.\n",
      "Labels loaded.\n",
      "load_species_list_modelread_audio_data: complete, read  \n",
      "20 chunks.\n",
      "analyze_recordingMeta model loaded. 20251001_165000.wav\n",
      "read_audio_data\n",
      "\n",
      "recording has lon/lat\n",
      "set_predicted_species_list_from_position\n",
      "return_predicted_species_list\n",
      "37\n",
      "139 read_audio_data: complete, read  species loaded.20\n",
      " chunks.\n",
      "analyze_recording 20251001_095000.wav\n",
      "recording has lon/lat\n",
      "set_predicted_species_list_from_position\n",
      "return_predicted_species_list\n",
      "37\n",
      "139 species loaded.\n",
      "process_from_queue\n",
      "Initializing analyzer(s)\n",
      "Labels loaded.\n",
      "load model process_from_queueTrue\n",
      "\n",
      "Initializing analyzer(s)\n",
      "Labels loaded.\n",
      "load model True\n",
      "Model loaded.\n",
      "process_from_queueLabels loaded.\n",
      "\n",
      "Initializing analyzer(s)load_species_list_model\n",
      "\n",
      "Model loaded.\n",
      "Labels loaded.\n",
      "load modelLabels loaded. \n",
      "Trueload_species_list_modelMeta model loaded.\n",
      "\n",
      "\n",
      "read_audio_data\n",
      "process_from_queueMeta model loaded.\n",
      "Initializing analyzer(s)\n",
      "read_audio_data\n",
      "\n",
      "Model loaded.\n",
      "Labels loaded.Labels loaded.\n",
      "\n",
      "load modelload_species_list_model \n",
      "read_audio_data: complete, read True read_audio_data: complete, read 20\n",
      "  chunks.20\n",
      "Meta model loaded. analyze_recordingprocess_from_queue\n",
      "Initializing analyzer(s) chunks.\n",
      "\n",
      "\n",
      "20251001_063000.wavanalyze_recordingread_audio_data\n",
      " recording has lon/lat\n",
      "Model loaded.\n",
      "20251001_084000.wav\n",
      "Labels loaded.\n",
      "\n",
      "set_predicted_species_list_from_positionrecording has lon/latload model\n",
      " Labels loaded.\n",
      "Trueset_predicted_species_list_from_position\n",
      "return_predicted_species_list\n",
      "\n",
      "return_predicted_species_listload_species_list_model\n",
      "\n",
      "\n",
      "3737\n",
      "\n",
      "read_audio_data: complete, read  20Meta model loaded. \n",
      "chunks.139\n",
      "read_audio_dataModel loaded.analyze_recording139 \n",
      " \n",
      " species loaded.species loaded.\n",
      "Labels loaded.\n",
      "20250930_181000.wav\n",
      "\n",
      "load_species_list_modelrecording has lon/lat\n",
      "\n",
      "set_predicted_species_list_from_position\n",
      "return_predicted_species_list\n",
      "37\n",
      "Meta model loaded.\n",
      "read_audio_data\n",
      "read_audio_data: complete, read 139  species loaded.20\n",
      " chunks.\n",
      "analyze_recording 20251001_114000.wav\n",
      "read_audio_data: complete, read recording has lon/lat 20\n",
      " set_predicted_species_list_from_position\n",
      "chunks.\n",
      "return_predicted_species_listanalyze_recording\n",
      "37 \n",
      "20251001_152000.wav\n",
      "recording has lon/lat\n",
      "139set_predicted_species_list_from_position \n",
      "species loaded.\n",
      "return_predicted_species_list\n",
      "37\n",
      "139 species loaded.\n",
      "process_from_queue\n",
      "Initializing analyzer(s)\n",
      "Labels loaded.process_from_queue\n",
      "\n",
      "Initializing analyzer(s)load model\n",
      " True\n",
      "Labels loaded.\n",
      "load model True\n",
      "Model loaded.\n",
      "Labels loaded.\n",
      "load_species_list_modelModel loaded.\n",
      "\n",
      "Labels loaded.\n",
      "load_species_list_modelMeta model loaded.\n",
      "\n",
      "read_audio_data\n",
      "Meta model loaded.\n",
      "read_audio_data\n",
      "read_audio_data: complete, read  20 chunks.\n",
      "analyze_recording 20251001_082000.wav\n",
      "read_audio_data: complete, read recording has lon/lat\n",
      " 20set_predicted_species_list_from_position chunks.\n",
      "\n",
      "analyze_recording return_predicted_species_list\n",
      "3720250930_183000.wav\n",
      "\n",
      "recording has lon/lat\n",
      "set_predicted_species_list_from_position139\n",
      " species loaded.return_predicted_species_list\n",
      "\n",
      "37\n",
      "139 species loaded.\n",
      "process_from_queue\n",
      "Initializing analyzer(s)\n",
      "Labels loaded.\n",
      "load model True\n",
      "Model loaded.\n",
      "Labels loaded.\n",
      "load_species_list_model\n",
      "Meta model loaded.\n",
      "read_audio_data\n",
      "process_from_queue\n",
      "Initializing analyzer(s)\n",
      "read_audio_data: complete, read  Labels loaded.20\n",
      " chunks.\n",
      "load model analyze_recordingTrue \n",
      "20251001_060000.wav\n",
      "recording has lon/lat\n",
      "set_predicted_species_list_from_position\n",
      "return_predicted_species_list\n",
      "Model loaded.37\n",
      "\n",
      "Labels loaded.\n",
      "load_species_list_model\n",
      "139 species loaded.\n",
      "Meta model loaded.\n",
      "read_audio_data\n",
      "process_from_queue\n",
      "Initializing analyzer(s)read_audio_data: complete, read \n",
      " Labels loaded.20 \n",
      "load modelchunks. True\n",
      "\n",
      "analyze_recording 20251001_055000.wav\n",
      "recording has lon/lat\n",
      "set_predicted_species_list_from_position\n",
      "return_predicted_species_list\n",
      "37\n",
      "Model loaded.\n",
      "139 Labels loaded.species loaded.\n",
      "\n",
      "load_species_list_model\n",
      "process_from_queue\n",
      "Meta model loaded.\n",
      "Initializing analyzer(s)process_from_queue\n",
      "read_audio_data\n",
      "\n",
      "Labels loaded.Initializing analyzer(s)\n",
      "load model \n",
      "True\n",
      "Labels loaded.\n",
      "load model Trueread_audio_data: complete, read  \n",
      "20 chunks.\n",
      "Model loaded.analyze_recording\n",
      " 20250930_174000.wavLabels loaded.\n",
      "recording has lon/lat\n",
      "\n",
      "load_species_list_modelset_predicted_species_list_from_position\n",
      "\n",
      "Model loaded.\n",
      "return_predicted_species_listLabels loaded.Meta model loaded.\n",
      "37\n",
      "\n",
      "\n",
      "read_audio_dataload_species_list_model\n",
      "\n",
      "139 species loaded.\n",
      "Meta model loaded.\n",
      "read_audio_data\n",
      "read_audio_data: complete, read  20 chunks.\n",
      "analyze_recording 20250930_213000.wav\n",
      "recording has lon/lat\n",
      "set_predicted_species_list_from_position\n",
      "read_audio_data: complete, read  return_predicted_species_list20\n",
      " 37chunks.\n",
      "\n",
      "analyze_recording 20251001_073000.wav\n",
      "recording has lon/lat139\n",
      " set_predicted_species_list_from_positionspecies loaded.\n",
      "\n",
      "return_predicted_species_list\n",
      "37\n",
      "139 species loaded.\n",
      "process_from_queue\n",
      "Initializing analyzer(s)\n",
      "Labels loaded.\n",
      "load model True\n",
      "process_from_queue\n",
      "Initializing analyzer(s)\n",
      "Labels loaded.\n",
      "load modelModel loaded. \n",
      "True\n",
      "Labels loaded.\n",
      "load_species_list_model\n",
      "Meta model loaded.\n",
      "read_audio_dataModel loaded.\n",
      "\n",
      "Labels loaded.\n",
      "load_species_list_model\n",
      "Meta model loaded.\n",
      "read_audio_data\n",
      "read_audio_data: complete, read  20 chunks.\n",
      "analyze_recording 20251001_000000.wav\n",
      "recording has lon/lat\n",
      "set_predicted_species_list_from_position\n",
      "return_predicted_species_listread_audio_data: complete, read \n",
      " 37\n",
      "20 139 chunks.species loaded.\n",
      "analyze_recording\n",
      " 20251001_120000.wav\n",
      "recording has lon/lat\n",
      "set_predicted_species_list_from_position\n",
      "return_predicted_species_list\n",
      "37\n",
      "139 species loaded.\n",
      "process_from_queue\n",
      "Initializing analyzer(s)\n",
      "Labels loaded.\n",
      "load model True\n",
      "Model loaded.\n",
      "Labels loaded.\n",
      "load_species_list_model\n",
      "\n",
      "process_from_queueInitializing analyzer(s)\n",
      "Meta model loaded.\n",
      "Labels loaded.read_audio_data\n",
      "\n",
      "load model True\n",
      "read_audio_data: complete, read  20 chunks.Model loaded.\n",
      "\n",
      "analyze_recording 20251001_035000.wavLabels loaded.\n",
      "\n",
      "recording has lon/latload_species_list_model\n",
      "\n",
      "set_predicted_species_list_from_position\n",
      "return_predicted_species_list\n",
      "37\n",
      "Meta model loaded.\n",
      "read_audio_data\n",
      "139 species loaded.\n",
      "read_audio_data: complete, read  20 chunks.\n",
      "analyze_recording 20251001_021000.wav\n",
      "recording has lon/latprocess_from_queue\n",
      "\n",
      "Initializing analyzer(s)set_predicted_species_list_from_position\n",
      "\n",
      "Labels loaded.return_predicted_species_list\n",
      "\n",
      "37load model \n",
      "Trueprocess_from_queue\n",
      "\n",
      "Initializing analyzer(s)\n",
      "139 Labels loaded.species loaded.\n",
      "load model \n",
      "True\n",
      "Model loaded.\n",
      "Labels loaded.\n",
      "load_species_list_model\n",
      "Model loaded.\n",
      "Meta model loaded.process_from_queue\n",
      "Labels loaded.\n",
      "\n",
      "read_audio_dataload_species_list_modelInitializing analyzer(s)\n",
      "\n",
      "\n",
      "Labels loaded.\n",
      "load modelMeta model loaded.\n",
      " read_audio_dataTrue\n",
      "\n",
      "read_audio_data: complete, read  20 chunks.\n",
      "analyze_recordingread_audio_data: complete, read   2020251001_071000.wav\n",
      " recording has lon/latchunks.\n",
      "\n",
      "set_predicted_species_list_from_positionModel loaded.analyze_recording\n",
      "\n",
      " 20251001_072000.wavreturn_predicted_species_list\n",
      "recording has lon/lat\n",
      "Labels loaded.\n",
      "\n",
      "37load_species_list_modelset_predicted_species_list_from_position\n",
      "\n",
      "\n",
      "return_predicted_species_list\n",
      "37\n",
      "139 species loaded.\n",
      "Meta model loaded.\n",
      "read_audio_data139 \n",
      "species loaded.\n",
      "read_audio_data: complete, read  20 chunks.\n",
      "analyze_recording 20251001_015000.wav\n",
      "recording has lon/lat\n",
      "set_predicted_species_list_from_position\n",
      "return_predicted_species_list\n",
      "37\n",
      "139 species loaded.\n",
      "process_from_queue\n",
      "Initializing analyzer(s)\n",
      "Labels loaded.\n",
      "load model True\n",
      "Model loaded.\n",
      "Labels loaded.\n",
      "load_species_list_modelprocess_from_queue\n",
      "\n",
      "Initializing analyzer(s)\n",
      "Labels loaded.\n",
      "Meta model loaded.load model\n",
      " read_audio_data\n",
      "True\n",
      "read_audio_data: complete, read  20 chunks.\n",
      "Model loaded.analyze_recording\n",
      " Labels loaded.20250930_204000.wav\n",
      "\n",
      "recording has lon/lat\n",
      "load_species_list_model\n",
      "set_predicted_species_list_from_position\n",
      "return_predicted_species_list\n",
      "37\n",
      "Meta model loaded.139\n",
      "read_audio_data \n",
      "species loaded.\n",
      "read_audio_data: complete, read  20 chunks.\n",
      "analyze_recording 20250930_231000.wav\n",
      "recording has lon/lat\n",
      "set_predicted_species_list_from_position\n",
      "return_predicted_species_list\n",
      "37\n",
      "139 species loaded.\n",
      "process_from_queue\n",
      "Initializing analyzer(s)\n",
      "Labels loaded.\n",
      "load model True\n",
      "Model loaded.\n",
      "Labels loaded.\n",
      "load_species_list_model\n",
      "Meta model loaded.\n",
      "read_audio_data\n",
      "read_audio_data: complete, read  20 chunks.\n",
      "analyze_recording 20251001_033000.wav\n",
      "process_from_queue\n",
      "recording has lon/latInitializing analyzer(s)\n",
      "\n",
      "set_predicted_species_list_from_position\n",
      "return_predicted_species_listLabels loaded.\n",
      "37\n",
      "\n",
      "load model 139True\n",
      " species loaded.\n",
      "process_from_queueModel loaded.\n",
      "\n",
      "Initializing analyzer(s)\n",
      "Labels loaded.\n",
      "load_species_list_model\n",
      "Labels loaded.process_from_queue\n",
      "\n",
      "Initializing analyzer(s) load model\n",
      "TrueMeta model loaded.Labels loaded.\n",
      "\n",
      "read_audio_data\n",
      "\n",
      "load model True\n",
      "read_audio_data: complete, read  20 chunks.Model loaded.\n",
      "\n",
      "analyze_recording Labels loaded.20251001_155000.wavModel loaded.\n",
      "\n",
      "recording has lon/latload_species_list_model\n",
      "\n",
      "\n",
      "set_predicted_species_list_from_position\n",
      "return_predicted_species_listLabels loaded.\n",
      "\n",
      "37\n",
      "load_species_list_model\n",
      "Meta model loaded.\n",
      "read_audio_data\n",
      "Meta model loaded.139\n",
      " read_audio_dataspecies loaded.\n",
      "\n",
      "process_from_queue\n",
      "Initializing analyzer(s)read_audio_data: complete, read  \n",
      "20read_audio_data: complete, read  Labels loaded. chunks.20\n",
      "\n",
      " load modelanalyze_recording chunks. True\n",
      "20251001_131000.wavanalyze_recording\n",
      " \n",
      "20251001_162000.wav\n",
      "recording has lon/lat\n",
      "recording has lon/lat\n",
      "set_predicted_species_list_from_position\n",
      "set_predicted_species_list_from_positionreturn_predicted_species_list\n",
      "\n",
      "return_predicted_species_list37\n",
      "\n",
      "37\n",
      "139139  species loaded.species loaded.\n",
      "\n",
      "Model loaded.\n",
      "Labels loaded.\n",
      "load_species_list_model\n",
      "Meta model loaded.\n",
      "read_audio_data\n",
      "read_audio_data: complete, read  20 chunks.\n",
      "analyze_recording 20251001_123000.wav\n",
      "recording has lon/lat\n",
      "set_predicted_species_list_from_position\n",
      "return_predicted_species_list\n",
      "37\n",
      "139 species loaded.\n",
      "process_from_queue\n",
      "Initializing analyzer(s)\n",
      "Labels loaded.\n",
      "load model True\n",
      "Model loaded.\n",
      "Labels loaded.\n",
      "load_species_list_model\n",
      "Meta model loaded.\n",
      "read_audio_data\n",
      "read_audio_data: complete, read  20 chunks.\n",
      "analyze_recording process_from_queue\n",
      "Initializing analyzer(s)20251001_034000.wav\n",
      "\n",
      "Labels loaded.recording has lon/lat\n",
      "\n",
      "set_predicted_species_list_from_positionload model\n",
      "return_predicted_species_list True\n",
      "\n",
      "37\n",
      "139 species loaded.\n",
      "Model loaded.\n",
      "Labels loaded.\n",
      "load_species_list_model\n",
      "Meta model loaded.\n",
      "read_audio_data\n",
      "read_audio_data: complete, read  20 chunks.\n",
      "analyze_recording 20251001_110000.wav\n",
      "recording has lon/lat\n",
      "set_predicted_species_list_from_position\n",
      "return_predicted_species_list\n",
      "37\n",
      "139 species loaded.\n",
      "process_from_queue\n",
      "Initializing analyzer(s)\n",
      "Labels loaded.\n",
      "load model True\n",
      "Model loaded.\n",
      "Labels loaded.\n",
      "load_species_list_model\n",
      "Meta model loaded.\n",
      "read_audio_data\n",
      "process_from_queue\n",
      "Initializing analyzer(s)\n",
      "Labels loaded.\n",
      "read_audio_data: complete, read load model  True20\n",
      " chunks.\n",
      "analyze_recording 20251001_040000.wav\n",
      "recording has lon/lat\n",
      "set_predicted_species_list_from_position\n",
      "return_predicted_species_list\n",
      "37\n",
      "Model loaded.\n",
      "139Labels loaded.\n",
      "load_species_list_model \n",
      "species loaded.\n",
      "Meta model loaded.\n",
      "read_audio_data\n",
      "process_from_queue\n",
      "Initializing analyzer(s)\n",
      "read_audio_data: complete, read  Labels loaded.20\n",
      "load model  chunks.\n",
      "True\n",
      "analyze_recording 20251001_011000.wavprocess_from_queue\n",
      "\n",
      "Initializing analyzer(s)recording has lon/lat\n",
      "\n",
      "set_predicted_species_list_from_position\n",
      "Labels loaded.return_predicted_species_list\n",
      "\n",
      "load model37\n",
      " TrueModel loaded.\n",
      "\n",
      "139Labels loaded. \n",
      "species loaded.load_species_list_model\n",
      "\n",
      "Model loaded.\n",
      "Meta model loaded.Labels loaded.\n",
      "\n",
      "load_species_list_modelread_audio_data\n",
      "\n",
      "read_audio_data: complete, read  20 chunks.\n",
      "analyze_recording Meta model loaded.\n",
      "20250930_235000.wavread_audio_data\n",
      "\n",
      "recording has lon/lat\n",
      "set_predicted_species_list_from_position\n",
      "return_predicted_species_list\n",
      "37read_audio_data: complete, read \n",
      " 20 chunks.139\n",
      " species loaded.process_from_queueanalyze_recording\n",
      "\n",
      " 20251001_134000.wavInitializing analyzer(s)\n",
      "\n",
      "Labels loaded.recording has lon/lat\n",
      "\n",
      "load modelset_predicted_species_list_from_position \n",
      "return_predicted_species_listTrue\n",
      "\n",
      "37\n",
      "139 species loaded.\n",
      "Model loaded.\n",
      "Labels loaded.\n",
      "load_species_list_model\n",
      "Meta model loaded.\n",
      "read_audio_data\n",
      "read_audio_data: complete, read  20 chunks.\n",
      "analyze_recording 20251001_145000.wav\n",
      "recording has lon/lat\n",
      "set_predicted_species_list_from_position\n",
      "return_predicted_species_list\n",
      "37\n",
      "139 species loaded.\n",
      "process_from_queue\n",
      "Initializing analyzer(s)\n",
      "Labels loaded.\n",
      "load model True\n",
      "Model loaded.\n",
      "Labels loaded.\n",
      "load_species_list_model\n",
      "Meta model loaded.\n",
      "read_audio_data\n",
      "read_audio_data: complete, read  20 chunks.\n",
      "analyze_recording 20251001_092000.wav\n",
      "recording has lon/lat\n",
      "set_predicted_species_list_from_position\n",
      "return_predicted_species_list\n",
      "37\n",
      "139 species loaded.\n",
      "process_from_queue\n",
      "Initializing analyzer(s)\n",
      "Labels loaded.\n",
      "load model True\n",
      "Model loaded.\n",
      "Labels loaded.\n",
      "load_species_list_model\n",
      "Meta model loaded.\n",
      "read_audio_data\n",
      "read_audio_data: complete, read  20 chunks.\n",
      "analyze_recording 20251001_051000.wav\n",
      "recording has lon/lat\n",
      "set_predicted_species_list_from_position\n",
      "return_predicted_species_list\n",
      "37\n",
      "139 species loaded.\n",
      "process_from_queue\n",
      "Initializing analyzer(s)\n",
      "Labels loaded.\n",
      "load model True\n",
      "Model loaded.\n",
      "Labels loaded.\n",
      "load_species_list_model\n",
      "Meta model loaded.\n",
      "read_audio_data\n",
      "read_audio_data: complete, read  20 process_from_queuechunks.\n",
      "\n",
      "Initializing analyzer(s)analyze_recording\n",
      " Labels loaded.20251001_030000.wav\n",
      "\n",
      "load modelrecording has lon/lat \n",
      "Trueset_predicted_species_list_from_position\n",
      "\n",
      "return_predicted_species_list\n",
      "37\n",
      "139 species loaded.\n",
      "Model loaded.\n",
      "Labels loaded.\n",
      "load_species_list_model\n",
      "Meta model loaded.\n",
      "read_audio_data\n",
      "process_from_queue\n",
      "Initializing analyzer(s)\n",
      "Labels loaded.\n",
      "load modelread_audio_data: complete, read  True 20\n",
      " chunks.\n",
      "analyze_recording 20251001_160000.wav\n",
      "recording has lon/lat\n",
      "set_predicted_species_list_from_positionModel loaded.\n",
      "\n",
      "return_predicted_species_list\n",
      "Labels loaded.\n",
      "37\n",
      "load_species_list_model\n",
      "139Meta model loaded. \n",
      "read_audio_dataspecies loaded.\n",
      "\n",
      "read_audio_data: complete, read  20 chunks.\n",
      "analyze_recording 20250930_202000.wav\n",
      "recording has lon/lat\n",
      "set_predicted_species_list_from_position\n",
      "return_predicted_species_list\n",
      "37\n",
      "139 species loaded.\n",
      "process_from_queue\n",
      "Initializing analyzer(s)\n",
      "Labels loaded.\n",
      "load model True\n",
      "process_from_queue\n",
      "Initializing analyzer(s)\n",
      "Labels loaded.\n",
      "load model True\n",
      "Model loaded.\n",
      "Labels loaded.\n",
      "load_species_list_modelModel loaded.\n",
      "\n",
      "Labels loaded.\n",
      "load_species_list_model\n",
      "Meta model loaded.\n",
      "read_audio_data\n",
      "Meta model loaded.\n",
      "read_audio_data\n",
      "read_audio_data: complete, read  20 chunks.\n",
      "analyze_recording read_audio_data: complete, read 20251001_024000.wav 20\n",
      " recording has lon/latchunks.\n",
      "\n",
      "set_predicted_species_list_from_positionanalyze_recording\n",
      " 20250930_230000.wavreturn_predicted_species_list\n",
      "\n",
      "37recording has lon/lat\n",
      "\n",
      "set_predicted_species_list_from_position139\n",
      " return_predicted_species_listspecies loaded.\n",
      "\n",
      "37\n",
      "139 species loaded.\n",
      "process_from_queue\n",
      "Initializing analyzer(s)process_from_queue\n",
      "\n",
      "Initializing analyzer(s)Labels loaded.\n",
      "\n",
      "Labels loaded.load model\n",
      " Trueload model \n",
      "True\n",
      "Model loaded.\n",
      "Labels loaded.\n",
      "load_species_list_model\n",
      "Model loaded.\n",
      "Meta model loaded.\n",
      "Labels loaded.\n",
      "read_audio_dataload_species_list_model\n",
      "\n",
      "Meta model loaded.\n",
      "read_audio_dataread_audio_data: complete, read \n",
      " 20 chunks.\n",
      "analyze_recording 20251001_052000.wav\n",
      "read_audio_data: complete, read recording has lon/lat \n",
      "20set_predicted_species_list_from_position\n",
      " chunks.return_predicted_species_list\n",
      "\n",
      "37analyze_recording\n",
      " 20251001_115000.wav\n",
      "recording has lon/lat\n",
      "139 set_predicted_species_list_from_positionspecies loaded.\n",
      "return_predicted_species_list\n",
      "\n",
      "37\n",
      "139 species loaded.\n",
      "process_from_queue\n",
      "Initializing analyzer(s)\n",
      "Labels loaded.\n",
      "load model True\n",
      "Model loaded.\n",
      "Labels loaded.\n",
      "load_species_list_model\n",
      "Meta model loaded.process_from_queue\n",
      "\n",
      "Initializing analyzer(s)\n",
      "read_audio_data\n",
      "Labels loaded.\n",
      "load model True\n",
      "read_audio_data: complete, read  20 chunks.\n",
      "analyze_recording Model loaded.20250930_210000.wav\n",
      "\n",
      "recording has lon/latLabels loaded.\n",
      "\n",
      "set_predicted_species_list_from_positionload_species_list_model\n",
      "\n",
      "return_predicted_species_list\n",
      "37\n",
      "Meta model loaded.\n",
      "read_audio_data\n",
      "139 species loaded.\n",
      "read_audio_data: complete, read  20 chunks.\n",
      "analyze_recording 20251001_085000.wav\n",
      "recording has lon/lat\n",
      "set_predicted_species_list_from_position\n",
      "return_predicted_species_list\n",
      "37process_from_queue\n",
      "\n",
      "Initializing analyzer(s)139\n",
      " Labels loaded.species loaded.\n",
      "\n",
      "load model True\n",
      "Model loaded.\n",
      "Labels loaded.\n",
      "load_species_list_model\n",
      "Meta model loaded.\n",
      "read_audio_data\n",
      "read_audio_data: complete, read  20 chunks.\n",
      "analyze_recording 20251001_133000.wav\n",
      "recording has lon/lat\n",
      "set_predicted_species_list_from_position\n",
      "process_from_queuereturn_predicted_species_list\n",
      "\n",
      "Initializing analyzer(s)37\n",
      "\n",
      "Labels loaded.\n",
      "load model True139\n",
      " species loaded.\n",
      "Model loaded.\n",
      "Labels loaded.\n",
      "load_species_list_model\n",
      "Meta model loaded.\n",
      "read_audio_data\n",
      "read_audio_data: complete, read  20 chunks.\n",
      "analyze_recording 20250930_233000.wav\n",
      "recording has lon/lat\n",
      "set_predicted_species_list_from_position\n",
      "return_predicted_species_list\n",
      "37\n",
      "139 species loaded.\n",
      "process_from_queue\n",
      "Initializing analyzer(s)\n",
      "Labels loaded.\n",
      "load model True\n",
      "Model loaded.\n",
      "Labels loaded.\n",
      "load_species_list_model\n",
      "Meta model loaded.\n",
      "read_audio_data\n",
      "read_audio_data: complete, read  20 chunks.\n",
      "analyze_recording 20250930_200000.wav\n",
      "recording has lon/lat\n",
      "set_predicted_species_list_from_position\n",
      "return_predicted_species_list\n",
      "37\n",
      "139 species loaded.\n",
      "process_from_queue\n",
      "Initializing analyzer(s)\n",
      "Labels loaded.\n",
      "load model True\n",
      "Model loaded.\n",
      "Labels loaded.\n",
      "load_species_list_model\n",
      "Meta model loaded.\n",
      "read_audio_data\n",
      "read_audio_data: complete, read  20 chunks.\n",
      "analyze_recording 20250930_214000.wav\n",
      "recording has lon/lat\n",
      "set_predicted_species_list_from_position\n",
      "return_predicted_species_list\n",
      "37\n",
      "139 species loaded.\n",
      "process_from_queue\n",
      "Initializing analyzer(s)\n",
      "Labels loaded.\n",
      "load model True\n",
      "Model loaded.\n",
      "Labels loaded.\n",
      "load_species_list_model\n",
      "Meta model loaded.\n",
      "read_audio_data\n",
      "read_audio_data: complete, read  20 chunks.\n",
      "analyze_recording 20251001_064000.wav\n",
      "recording has lon/lat\n",
      "set_predicted_species_list_from_position\n",
      "return_predicted_species_list\n",
      "37\n",
      "139 species loaded.\n",
      "process_from_queue\n",
      "Initializing analyzer(s)\n",
      "Labels loaded.\n",
      "load model True\n",
      "Model loaded.\n",
      "Labels loaded.\n",
      "load_species_list_model\n",
      "Meta model loaded.\n",
      "read_audio_data\n",
      "read_audio_data: complete, read  20 chunks.\n",
      "analyze_recording 20251001_150000.wav\n",
      "recording has lon/lat\n",
      "set_predicted_species_list_from_position\n",
      "return_predicted_species_list\n",
      "37\n",
      "process_from_queue\n",
      "Initializing analyzer(s)\n",
      "139 species loaded.\n",
      "Labels loaded.\n",
      "load model True\n",
      "Model loaded.\n",
      "Labels loaded.\n",
      "load_species_list_model\n",
      "Meta model loaded.\n",
      "read_audio_data\n",
      "read_audio_data: complete, read  20 chunks.\n",
      "analyze_recording 20251001_075000.wav\n",
      "recording has lon/lat\n",
      "set_predicted_species_list_from_position\n",
      "return_predicted_species_list\n",
      "37\n",
      "139 species loaded.\n",
      "process_from_queue\n",
      "Initializing analyzer(s)\n",
      "Labels loaded.\n",
      "load model True\n",
      "Model loaded.\n",
      "Labels loaded.\n",
      "load_species_list_model\n",
      "Meta model loaded.\n",
      "read_audio_data\n",
      "read_audio_data: complete, read  20 chunks.\n",
      "analyze_recording 20250930_203000.wav\n",
      "recording has lon/lat\n",
      "set_predicted_species_list_from_position\n",
      "return_predicted_species_list\n",
      "37\n",
      "139 species loaded.\n",
      "process_from_queue\n",
      "Initializing analyzer(s)\n",
      "Labels loaded.\n",
      "load model True\n",
      "Model loaded.\n",
      "Labels loaded.\n",
      "load_species_list_model\n",
      "process_from_queue\n",
      "Initializing analyzer(s)\n",
      "Labels loaded.\n",
      "Meta model loaded.load model\n",
      " read_audio_dataTrue\n",
      "\n",
      "read_audio_data: complete, read  20 chunks.Model loaded.\n",
      "\n",
      "analyze_recording 20251001_012000.wavLabels loaded.\n",
      "recording has lon/lat\n",
      "\n",
      "set_predicted_species_list_from_positionload_species_list_model\n",
      "\n",
      "return_predicted_species_list\n",
      "37\n",
      "139Meta model loaded. species loaded.\n",
      "\n",
      "read_audio_data\n",
      "read_audio_data: complete, read  20 chunks.\n",
      "analyze_recording 20250930_175000.wav\n",
      "recording has lon/lat\n",
      "set_predicted_species_list_from_position\n",
      "return_predicted_species_list\n",
      "37\n",
      "139 species loaded.\n",
      "process_from_queue\n",
      "Initializing analyzer(s)\n",
      "Labels loaded.\n",
      "load model True\n",
      "Model loaded.\n",
      "Labels loaded.\n",
      "load_species_list_model\n",
      "Meta model loaded.\n",
      "read_audio_data\n",
      "read_audio_data: complete, read  20 chunks.\n",
      "analyze_recording 20251001_140000.wav\n",
      "recording has lon/lat\n",
      "set_predicted_species_list_from_position\n",
      "return_predicted_species_list\n",
      "37\n",
      "139 species loaded.\n",
      "process_from_queue\n",
      "Initializing analyzer(s)\n",
      "Labels loaded.\n",
      "load model True\n",
      "Model loaded.\n",
      "Labels loaded.\n",
      "load_species_list_model\n",
      "Meta model loaded.\n",
      "read_audio_data\n",
      "process_from_queue\n",
      "Initializing analyzer(s)\n",
      "Labels loaded.\n",
      "load model True\n",
      "read_audio_data: complete, read  20 chunks.\n",
      "analyze_recording 20251001_112000.wav\n",
      "recording has lon/lat\n",
      "set_predicted_species_list_from_position\n",
      "return_predicted_species_list\n",
      "37\n",
      "Model loaded.\n",
      "Labels loaded.139 \n",
      "load_species_list_modelspecies loaded.\n",
      "\n",
      "Meta model loaded.\n",
      "read_audio_data\n",
      "read_audio_data: complete, read  20 chunks.\n",
      "analyze_recording 20250930_173000.wav\n",
      "recording has lon/lat\n",
      "set_predicted_species_list_from_position\n",
      "return_predicted_species_list\n",
      "37\n",
      "139 species loaded.\n",
      "process_from_queue\n",
      "Initializing analyzer(s)\n",
      "Labels loaded.\n",
      "load model True\n",
      "Model loaded.\n",
      "Labels loaded.\n",
      "load_species_list_model\n",
      "Meta model loaded.\n",
      "read_audio_data\n",
      "read_audio_data: complete, read  20 chunks.\n",
      "analyze_recording 20251001_102000.wav\n",
      "recording has lon/lat\n",
      "set_predicted_species_list_from_position\n",
      "return_predicted_species_list\n",
      "37\n",
      "139 species loaded.\n",
      "process_from_queue\n",
      "Initializing analyzer(s)\n",
      "Labels loaded.\n",
      "load model True\n",
      "Model loaded.\n",
      "Labels loaded.\n",
      "load_species_list_model\n",
      "Meta model loaded.\n",
      "read_audio_data\n",
      "read_audio_data: complete, read  20 chunks.\n",
      "analyze_recording 20251001_090000.wav\n",
      "recording has lon/lat\n",
      "set_predicted_species_list_from_position\n",
      "return_predicted_species_list\n",
      "process_from_queue\n",
      "37\n",
      "Initializing analyzer(s)\n",
      "Labels loaded.\n",
      "load model139  True\n",
      "species loaded.\n",
      "Model loaded.\n",
      "Labels loaded.\n",
      "load_species_list_model\n",
      "Meta model loaded.\n",
      "read_audio_data\n",
      "read_audio_data: complete, read  20 chunks.\n",
      "analyze_recording 20251001_132000.wav\n",
      "recording has lon/lat\n",
      "set_predicted_species_list_from_position\n",
      "return_predicted_species_list\n",
      "37\n",
      "139 species loaded.\n",
      "process_from_queue\n",
      "Initializing analyzer(s)\n",
      "Labels loaded.\n",
      "load model True\n",
      "Model loaded.\n",
      "Labels loaded.\n",
      "load_species_list_model\n",
      "Meta model loaded.\n",
      "read_audio_data\n",
      "read_audio_data: complete, read  20 chunks.\n",
      "analyze_recording 20251001_101000.wav\n",
      "recording has lon/lat\n",
      "set_predicted_species_list_from_position\n",
      "return_predicted_species_list\n",
      "37\n",
      "139 species loaded.\n",
      "--------------------------------------------------------------------------------\n",
      "directory_completed: recordings processed  145\n",
      "--------------------------------------------------------------------------------\n",
      "Ecoacoustics_Longitudinal_Altitude_Project/Point_1/20251001_122000.wav\n",
      "--------------------------------------------------------------------------------\n",
      "Ecoacoustics_Longitudinal_Altitude_Project/Point_1/20251001_141000.wav\n",
      "--------------------------------------------------------------------------------\n",
      "Ecoacoustics_Longitudinal_Altitude_Project/Point_1/20251001_044000.wav\n",
      "--------------------------------------------------------------------------------\n",
      "Ecoacoustics_Longitudinal_Altitude_Project/Point_1/20250930_195000.wav\n",
      "--------------------------------------------------------------------------------\n",
      "Ecoacoustics_Longitudinal_Altitude_Project/Point_1/20251001_094000.wav\n",
      "--------------------------------------------------------------------------------\n",
      "Ecoacoustics_Longitudinal_Altitude_Project/Point_1/20251001_081000.wav\n",
      "--------------------------------------------------------------------------------\n",
      "Ecoacoustics_Longitudinal_Altitude_Project/Point_1/20251001_042000.wav\n",
      "--------------------------------------------------------------------------------\n",
      "Ecoacoustics_Longitudinal_Altitude_Project/Point_1/20251001_013000.wav\n",
      "--------------------------------------------------------------------------------\n",
      "Ecoacoustics_Longitudinal_Altitude_Project/Point_1/20250930_193000.wav\n",
      "--------------------------------------------------------------------------------\n",
      "Ecoacoustics_Longitudinal_Altitude_Project/Point_1/20251001_025000.wav\n",
      "--------------------------------------------------------------------------------\n",
      "Ecoacoustics_Longitudinal_Altitude_Project/Point_1/20250930_234000.wav\n",
      "--------------------------------------------------------------------------------\n",
      "Ecoacoustics_Longitudinal_Altitude_Project/Point_1/20251001_001000.wav\n",
      "--------------------------------------------------------------------------------\n",
      "Ecoacoustics_Longitudinal_Altitude_Project/Point_1/20251001_031000.wav\n",
      "--------------------------------------------------------------------------------\n",
      "Ecoacoustics_Longitudinal_Altitude_Project/Point_1/20251001_054000.wav\n",
      "--------------------------------------------------------------------------------\n",
      "Ecoacoustics_Longitudinal_Altitude_Project/Point_1/20251001_093000.wav\n",
      "--------------------------------------------------------------------------------\n",
      "Ecoacoustics_Longitudinal_Altitude_Project/Point_1/20250930_170000.wav\n",
      "--------------------------------------------------------------------------------\n",
      "Ecoacoustics_Longitudinal_Altitude_Project/Point_1/20251001_113000.wav\n",
      "--------------------------------------------------------------------------------\n",
      "Ecoacoustics_Longitudinal_Altitude_Project/Point_1/20251001_103000.wav\n",
      "--------------------------------------------------------------------------------\n",
      "Ecoacoustics_Longitudinal_Altitude_Project/Point_1/20251001_151000.wav\n",
      "--------------------------------------------------------------------------------\n",
      "Ecoacoustics_Longitudinal_Altitude_Project/Point_1/20250930_220000.wav\n",
      "--------------------------------------------------------------------------------\n",
      "Ecoacoustics_Longitudinal_Altitude_Project/Point_1/20251001_062000.wav\n",
      "--------------------------------------------------------------------------------\n",
      "Ecoacoustics_Longitudinal_Altitude_Project/Point_1/20250930_190000.wav\n",
      "--------------------------------------------------------------------------------\n",
      "Ecoacoustics_Longitudinal_Altitude_Project/Point_1/20251001_002000.wav\n",
      "--------------------------------------------------------------------------------\n",
      "Ecoacoustics_Longitudinal_Altitude_Project/Point_1/20250930_184000.wav\n",
      "--------------------------------------------------------------------------------\n",
      "Ecoacoustics_Longitudinal_Altitude_Project/Point_1/20250930_201000.wav\n",
      "--------------------------------------------------------------------------------\n",
      "Ecoacoustics_Longitudinal_Altitude_Project/Point_1/20250930_171000.wav\n",
      "--------------------------------------------------------------------------------\n",
      "Ecoacoustics_Longitudinal_Altitude_Project/Point_1/20251001_170000.wav\n",
      "--------------------------------------------------------------------------------\n",
      "Ecoacoustics_Longitudinal_Altitude_Project/Point_1/20250930_180000.wav\n",
      "--------------------------------------------------------------------------------\n",
      "Ecoacoustics_Longitudinal_Altitude_Project/Point_1/20251001_135000.wav\n",
      "--------------------------------------------------------------------------------\n",
      "Ecoacoustics_Longitudinal_Altitude_Project/Point_1/20250930_211000.wav\n",
      "--------------------------------------------------------------------------------\n",
      "Ecoacoustics_Longitudinal_Altitude_Project/Point_1/20251001_142000.wav\n",
      "--------------------------------------------------------------------------------\n",
      "Ecoacoustics_Longitudinal_Altitude_Project/Point_1/20250930_191000.wav\n",
      "--------------------------------------------------------------------------------\n",
      "Ecoacoustics_Longitudinal_Altitude_Project/Point_1/20251001_121000.wav\n",
      "--------------------------------------------------------------------------------\n",
      "Ecoacoustics_Longitudinal_Altitude_Project/Point_1/20251001_161000.wav\n",
      "--------------------------------------------------------------------------------\n",
      "Ecoacoustics_Longitudinal_Altitude_Project/Point_1/20251001_020000.wav\n",
      "--------------------------------------------------------------------------------\n",
      "Ecoacoustics_Longitudinal_Altitude_Project/Point_1/20250930_223000.wav\n",
      "--------------------------------------------------------------------------------\n",
      "Ecoacoustics_Longitudinal_Altitude_Project/Point_1/20251001_083000.wav\n",
      "--------------------------------------------------------------------------------\n",
      "Ecoacoustics_Longitudinal_Altitude_Project/Point_1/20251001_153000.wav\n",
      "--------------------------------------------------------------------------------\n",
      "Ecoacoustics_Longitudinal_Altitude_Project/Point_1/20250930_212000.wav\n",
      "--------------------------------------------------------------------------------\n",
      "Ecoacoustics_Longitudinal_Altitude_Project/Point_1/20251001_023000.wav\n",
      "--------------------------------------------------------------------------------\n",
      "Ecoacoustics_Longitudinal_Altitude_Project/Point_1/20250930_224000.wav\n",
      "--------------------------------------------------------------------------------\n",
      "Ecoacoustics_Longitudinal_Altitude_Project/Point_1/20251001_003000.wav\n",
      "--------------------------------------------------------------------------------\n",
      "Ecoacoustics_Longitudinal_Altitude_Project/Point_1/20251001_041000.wav\n",
      "--------------------------------------------------------------------------------\n",
      "Ecoacoustics_Longitudinal_Altitude_Project/Point_1/20250930_172000.wav\n",
      "--------------------------------------------------------------------------------\n",
      "Ecoacoustics_Longitudinal_Altitude_Project/Point_1/20251001_143000.wav\n",
      "--------------------------------------------------------------------------------\n",
      "Ecoacoustics_Longitudinal_Altitude_Project/Point_1/20251001_070000.wav\n",
      "--------------------------------------------------------------------------------\n",
      "Ecoacoustics_Longitudinal_Altitude_Project/Point_1/20250930_232000.wav\n",
      "--------------------------------------------------------------------------------\n",
      "Ecoacoustics_Longitudinal_Altitude_Project/Point_1/20251001_100000.wav\n",
      "--------------------------------------------------------------------------------\n",
      "Ecoacoustics_Longitudinal_Altitude_Project/Point_1/20251001_074000.wav\n",
      "--------------------------------------------------------------------------------\n",
      "Ecoacoustics_Longitudinal_Altitude_Project/Point_1/20251001_091000.wav\n",
      "--------------------------------------------------------------------------------\n",
      "Ecoacoustics_Longitudinal_Altitude_Project/Point_1/20250930_221000.wav\n",
      "--------------------------------------------------------------------------------\n",
      "Ecoacoustics_Longitudinal_Altitude_Project/Point_1/20251001_111000.wav\n",
      "--------------------------------------------------------------------------------\n",
      "Ecoacoustics_Longitudinal_Altitude_Project/Point_1/20251001_004000.wav\n",
      "--------------------------------------------------------------------------------\n",
      "Ecoacoustics_Longitudinal_Altitude_Project/Point_1/20251001_005000.wav\n",
      "--------------------------------------------------------------------------------\n",
      "Ecoacoustics_Longitudinal_Altitude_Project/Point_1/20251001_154000.wav\n",
      "--------------------------------------------------------------------------------\n",
      "Ecoacoustics_Longitudinal_Altitude_Project/Point_1/20251001_010000.wav\n",
      "--------------------------------------------------------------------------------\n",
      "Ecoacoustics_Longitudinal_Altitude_Project/Point_1/20251001_164000.wav\n",
      "--------------------------------------------------------------------------------\n",
      "Ecoacoustics_Longitudinal_Altitude_Project/Point_1/20250930_185000.wav\n",
      "--------------------------------------------------------------------------------\n",
      "Ecoacoustics_Longitudinal_Altitude_Project/Point_1/20250930_215000.wav\n",
      "--------------------------------------------------------------------------------\n",
      "Ecoacoustics_Longitudinal_Altitude_Project/Point_1/20251001_014000.wav\n",
      "--------------------------------------------------------------------------------\n",
      "Ecoacoustics_Longitudinal_Altitude_Project/Point_1/20250930_194000.wav\n",
      "--------------------------------------------------------------------------------\n",
      "Ecoacoustics_Longitudinal_Altitude_Project/Point_1/20251001_104000.wav\n",
      "--------------------------------------------------------------------------------\n",
      "Ecoacoustics_Longitudinal_Altitude_Project/Point_1/20251001_061000.wav\n",
      "--------------------------------------------------------------------------------\n",
      "Ecoacoustics_Longitudinal_Altitude_Project/Point_1/20251001_022000.wav\n",
      "--------------------------------------------------------------------------------\n",
      "Ecoacoustics_Longitudinal_Altitude_Project/Point_1/20251001_043000.wav\n",
      "--------------------------------------------------------------------------------\n",
      "Ecoacoustics_Longitudinal_Altitude_Project/Point_1/20251001_144000.wav\n",
      "--------------------------------------------------------------------------------\n",
      "Ecoacoustics_Longitudinal_Altitude_Project/Point_1/20250930_182000.wav\n",
      "--------------------------------------------------------------------------------\n",
      "Ecoacoustics_Longitudinal_Altitude_Project/Point_1/20250930_205000.wav\n",
      "--------------------------------------------------------------------------------\n",
      "Ecoacoustics_Longitudinal_Altitude_Project/Point_1/20251001_130000.wav\n",
      "--------------------------------------------------------------------------------\n",
      "Ecoacoustics_Longitudinal_Altitude_Project/Point_1/20251001_050000.wav\n",
      "--------------------------------------------------------------------------------\n",
      "Ecoacoustics_Longitudinal_Altitude_Project/Point_1/20251001_032000.wav\n",
      "--------------------------------------------------------------------------------\n",
      "Ecoacoustics_Longitudinal_Altitude_Project/Point_1/20251001_165000.wav\n",
      "--------------------------------------------------------------------------------\n",
      "Ecoacoustics_Longitudinal_Altitude_Project/Point_1/20251001_124000.wav\n",
      "--------------------------------------------------------------------------------\n",
      "Ecoacoustics_Longitudinal_Altitude_Project/Point_1/20250930_222000.wav\n",
      "--------------------------------------------------------------------------------\n",
      "Ecoacoustics_Longitudinal_Altitude_Project/Point_1/20250930_192000.wav\n",
      "--------------------------------------------------------------------------------\n",
      "Ecoacoustics_Longitudinal_Altitude_Project/Point_1/20250930_225000.wav\n",
      "--------------------------------------------------------------------------------\n",
      "Ecoacoustics_Longitudinal_Altitude_Project/Point_1/20251001_045000.wav\n",
      "--------------------------------------------------------------------------------\n",
      "Ecoacoustics_Longitudinal_Altitude_Project/Point_1/20251001_095000.wav\n",
      "--------------------------------------------------------------------------------\n",
      "Ecoacoustics_Longitudinal_Altitude_Project/Point_1/20251001_080000.wav\n",
      "--------------------------------------------------------------------------------\n",
      "Ecoacoustics_Longitudinal_Altitude_Project/Point_1/20251001_125000.wav\n",
      "--------------------------------------------------------------------------------\n",
      "Ecoacoustics_Longitudinal_Altitude_Project/Point_1/20251001_065000.wav\n",
      "--------------------------------------------------------------------------------\n",
      "Ecoacoustics_Longitudinal_Altitude_Project/Point_1/20251001_053000.wav\n",
      "--------------------------------------------------------------------------------\n",
      "Ecoacoustics_Longitudinal_Altitude_Project/Point_1/20251001_105000.wav\n",
      "--------------------------------------------------------------------------------\n",
      "Ecoacoustics_Longitudinal_Altitude_Project/Point_1/20251001_163000.wav\n",
      "--------------------------------------------------------------------------------\n",
      "Ecoacoustics_Longitudinal_Altitude_Project/Point_1/20251001_063000.wav\n",
      "--------------------------------------------------------------------------------\n",
      "Ecoacoustics_Longitudinal_Altitude_Project/Point_1/20251001_055000.wav\n",
      "--------------------------------------------------------------------------------\n",
      "Ecoacoustics_Longitudinal_Altitude_Project/Point_1/20251001_021000.wav\n",
      "--------------------------------------------------------------------------------\n",
      "Ecoacoustics_Longitudinal_Altitude_Project/Point_1/20251001_155000.wav\n",
      "--------------------------------------------------------------------------------\n",
      "Ecoacoustics_Longitudinal_Altitude_Project/Point_1/20251001_011000.wav\n",
      "--------------------------------------------------------------------------------\n",
      "Ecoacoustics_Longitudinal_Altitude_Project/Point_1/20251001_160000.wav\n",
      "--------------------------------------------------------------------------------\n",
      "Ecoacoustics_Longitudinal_Altitude_Project/Point_1/20251001_084000.wav\n",
      "--------------------------------------------------------------------------------\n",
      "Ecoacoustics_Longitudinal_Altitude_Project/Point_1/20251001_060000.wav\n",
      "--------------------------------------------------------------------------------\n",
      "Ecoacoustics_Longitudinal_Altitude_Project/Point_1/20251001_035000.wav\n",
      "--------------------------------------------------------------------------------\n",
      "Ecoacoustics_Longitudinal_Altitude_Project/Point_1/20251001_033000.wav\n",
      "--------------------------------------------------------------------------------\n",
      "Ecoacoustics_Longitudinal_Altitude_Project/Point_1/20251001_040000.wav\n",
      "--------------------------------------------------------------------------------\n",
      "Ecoacoustics_Longitudinal_Altitude_Project/Point_1/20251001_030000.wav\n",
      "--------------------------------------------------------------------------------\n",
      "Ecoacoustics_Longitudinal_Altitude_Project/Point_1/20250930_181000.wav\n",
      "--------------------------------------------------------------------------------\n",
      "Ecoacoustics_Longitudinal_Altitude_Project/Point_1/20250930_213000.wav\n",
      "--------------------------------------------------------------------------------\n",
      "Ecoacoustics_Longitudinal_Altitude_Project/Point_1/20251001_015000.wav\n",
      "--------------------------------------------------------------------------------\n",
      "Ecoacoustics_Longitudinal_Altitude_Project/Point_1/20251001_123000.wav\n",
      "--------------------------------------------------------------------------------\n",
      "Ecoacoustics_Longitudinal_Altitude_Project/Point_1/20251001_145000.wav\n",
      "--------------------------------------------------------------------------------\n",
      "Ecoacoustics_Longitudinal_Altitude_Project/Point_1/20251001_024000.wav\n",
      "--------------------------------------------------------------------------------\n",
      "Ecoacoustics_Longitudinal_Altitude_Project/Point_1/20251001_114000.wav\n",
      "--------------------------------------------------------------------------------\n",
      "Ecoacoustics_Longitudinal_Altitude_Project/Point_1/20251001_073000.wav\n",
      "--------------------------------------------------------------------------------\n",
      "Ecoacoustics_Longitudinal_Altitude_Project/Point_1/20251001_071000.wav\n",
      "--------------------------------------------------------------------------------\n",
      "Ecoacoustics_Longitudinal_Altitude_Project/Point_1/20251001_162000.wav\n",
      "--------------------------------------------------------------------------------\n",
      "Ecoacoustics_Longitudinal_Altitude_Project/Point_1/20251001_134000.wav\n",
      "--------------------------------------------------------------------------------\n",
      "Ecoacoustics_Longitudinal_Altitude_Project/Point_1/20250930_230000.wav\n",
      "--------------------------------------------------------------------------------\n",
      "Ecoacoustics_Longitudinal_Altitude_Project/Point_1/20251001_152000.wav\n",
      "--------------------------------------------------------------------------------\n",
      "Ecoacoustics_Longitudinal_Altitude_Project/Point_1/20250930_174000.wav\n",
      "--------------------------------------------------------------------------------\n",
      "Ecoacoustics_Longitudinal_Altitude_Project/Point_1/20251001_072000.wav\n",
      "--------------------------------------------------------------------------------\n",
      "Ecoacoustics_Longitudinal_Altitude_Project/Point_1/20251001_131000.wav\n",
      "--------------------------------------------------------------------------------\n",
      "Ecoacoustics_Longitudinal_Altitude_Project/Point_1/20250930_235000.wav\n",
      "--------------------------------------------------------------------------------\n",
      "Ecoacoustics_Longitudinal_Altitude_Project/Point_1/20250930_202000.wav\n",
      "--------------------------------------------------------------------------------\n",
      "Ecoacoustics_Longitudinal_Altitude_Project/Point_1/20251001_082000.wav\n",
      "--------------------------------------------------------------------------------\n",
      "Ecoacoustics_Longitudinal_Altitude_Project/Point_1/20251001_000000.wav\n",
      "--------------------------------------------------------------------------------\n",
      "Ecoacoustics_Longitudinal_Altitude_Project/Point_1/20250930_204000.wav\n",
      "--------------------------------------------------------------------------------\n",
      "Ecoacoustics_Longitudinal_Altitude_Project/Point_1/20251001_034000.wav\n",
      "--------------------------------------------------------------------------------\n",
      "Ecoacoustics_Longitudinal_Altitude_Project/Point_1/20251001_092000.wav\n",
      "--------------------------------------------------------------------------------\n",
      "Ecoacoustics_Longitudinal_Altitude_Project/Point_1/20251001_052000.wav\n",
      "--------------------------------------------------------------------------------\n",
      "Ecoacoustics_Longitudinal_Altitude_Project/Point_1/20250930_183000.wav\n",
      "--------------------------------------------------------------------------------\n",
      "Ecoacoustics_Longitudinal_Altitude_Project/Point_1/20251001_120000.wav\n",
      "--------------------------------------------------------------------------------\n",
      "Ecoacoustics_Longitudinal_Altitude_Project/Point_1/20250930_231000.wav\n",
      "--------------------------------------------------------------------------------\n",
      "Ecoacoustics_Longitudinal_Altitude_Project/Point_1/20251001_110000.wav\n",
      "--------------------------------------------------------------------------------\n",
      "Ecoacoustics_Longitudinal_Altitude_Project/Point_1/20251001_051000.wav\n",
      "--------------------------------------------------------------------------------\n",
      "Ecoacoustics_Longitudinal_Altitude_Project/Point_1/20251001_115000.wav\n",
      "--------------------------------------------------------------------------------\n",
      "Ecoacoustics_Longitudinal_Altitude_Project/Point_1/20250930_210000.wav\n",
      "--------------------------------------------------------------------------------\n",
      "Ecoacoustics_Longitudinal_Altitude_Project/Point_1/20250930_200000.wav\n",
      "--------------------------------------------------------------------------------\n",
      "Ecoacoustics_Longitudinal_Altitude_Project/Point_1/20251001_150000.wav\n",
      "--------------------------------------------------------------------------------\n",
      "Ecoacoustics_Longitudinal_Altitude_Project/Point_1/20251001_012000.wav\n",
      "--------------------------------------------------------------------------------\n",
      "Ecoacoustics_Longitudinal_Altitude_Project/Point_1/20251001_112000.wav\n",
      "--------------------------------------------------------------------------------\n",
      "Ecoacoustics_Longitudinal_Altitude_Project/Point_1/20251001_090000.wav\n",
      "--------------------------------------------------------------------------------\n",
      "Ecoacoustics_Longitudinal_Altitude_Project/Point_1/20251001_085000.wav\n",
      "--------------------------------------------------------------------------------\n",
      "Ecoacoustics_Longitudinal_Altitude_Project/Point_1/20250930_214000.wav\n",
      "--------------------------------------------------------------------------------\n",
      "Ecoacoustics_Longitudinal_Altitude_Project/Point_1/20251001_075000.wav\n",
      "--------------------------------------------------------------------------------\n",
      "Ecoacoustics_Longitudinal_Altitude_Project/Point_1/20250930_175000.wav\n",
      "--------------------------------------------------------------------------------\n",
      "Ecoacoustics_Longitudinal_Altitude_Project/Point_1/20250930_173000.wav\n",
      "--------------------------------------------------------------------------------\n",
      "Ecoacoustics_Longitudinal_Altitude_Project/Point_1/20251001_132000.wav\n",
      "--------------------------------------------------------------------------------\n",
      "Ecoacoustics_Longitudinal_Altitude_Project/Point_1/20251001_133000.wav\n",
      "--------------------------------------------------------------------------------\n",
      "Ecoacoustics_Longitudinal_Altitude_Project/Point_1/20251001_064000.wav\n",
      "--------------------------------------------------------------------------------\n",
      "Ecoacoustics_Longitudinal_Altitude_Project/Point_1/20250930_203000.wav\n",
      "--------------------------------------------------------------------------------\n",
      "Ecoacoustics_Longitudinal_Altitude_Project/Point_1/20251001_140000.wav\n",
      "--------------------------------------------------------------------------------\n",
      "Ecoacoustics_Longitudinal_Altitude_Project/Point_1/20251001_102000.wav\n",
      "--------------------------------------------------------------------------------\n",
      "Ecoacoustics_Longitudinal_Altitude_Project/Point_1/20251001_101000.wav\n",
      "--------------------------------------------------------------------------------\n",
      "Ecoacoustics_Longitudinal_Altitude_Project/Point_1/20250930_233000.wav\n",
      "--------------------------------------------------------------------------------\n",
      "✅ Analysis finished ; generated CSV :  birdnet_detections_onef3.csv\n"
     ]
    }
   ],
   "source": [
    "# === Parameters ===\n",
    "ROOT_DIR = \"./Ecoacoustics_Longitudinal_Altitude_Project\"\n",
    "DATA_PATH = \"./Ecoacoustics_Longitudinal_Altitude_Project/Point_1\" \n",
    "OUTPUT_CSV = \"birdnet_detections_final.csv\"\n",
    "EXPORT_DIR = \"extractions\" # directory to export audio/spectrograms\n",
    "LON = 6.07342607201401\n",
    "LAT = 46.5104596567472\n",
    "MIN_CONF = 0.4 # minimum confidence for detections\n",
    "ANALYSIS_DATE = datetime(year=2025, month=10, day=1)\n",
    "EXPORT_SPECTROGRAMS = False\n",
    "EXPORT_AUDIO = False\n",
    "one_folder = False # True to analyze only one folder (will use DATA_PATH), False to analyze all subfolders (will use ROOT_DIR)\n",
    "\n",
    "# Create export directory if it doesn't exist\n",
    "os.makedirs(EXPORT_DIR, exist_ok=True)\n",
    "\n",
    "# Initialize the analyzer\n",
    "analyzer = Analyzer()\n",
    "\n",
    "# Prepare the CSV file\n",
    "csv_file = open(OUTPUT_CSV, mode=\"w\", newline=\"\")\n",
    "fieldnames = [\n",
    "\"folder\", \"file_name\", \"datetime\", \"species\", \"confidence\",\n",
    "    \"start_time\", \"end_time\", \"latitude\", \"longitude\", \"altitude\" \n",
    "]\n",
    "writer = csv.DictWriter(csv_file, fieldnames=fieldnames)\n",
    "writer.writeheader()\n",
    "\n",
    "\n",
    "if one_folder == True :\n",
    "    \n",
    "    # Create the multi-processing batch for a single folder\n",
    "    batch = DirectoryMultiProcessingAnalyzer(\n",
    "        DATA_PATH,\n",
    "        analyzers=[analyzer],\n",
    "        lon=LON,\n",
    "        lat=LAT,\n",
    "        date=ANALYSIS_DATE,\n",
    "        min_conf=MIN_CONF,\n",
    "    )\n",
    "    # Replace the on_analyze_directory_complete callback\n",
    "    batch.on_analyze_directory_complete = lambda recs: on_analyze_directory_complete(\n",
    "        recs,\n",
    "        writer=writer,\n",
    "        gps_csv_path=ROOT_DIR + '/gps_coord.csv',\n",
    "        export_dir=EXPORT_DIR,\n",
    "        export_audio=EXPORT_AUDIO,\n",
    "        export_spectrograms=EXPORT_SPECTROGRAMS\n",
    "    )\n",
    "    # Launch the analysis\n",
    "    batch.process()\n",
    "\n",
    "else :\n",
    "\n",
    "    # Create the multi-processing batch for all subfolders\n",
    "    for folder in os.listdir(ROOT_DIR):\n",
    "        full_path = os.path.join(ROOT_DIR, folder)\n",
    "        print(f\"folder : {folder}\")\n",
    "        if os.path.isdir(full_path):\n",
    "            print(f\"Analyse de {folder} ...\")\n",
    "            batch = DirectoryMultiProcessingAnalyzer(\n",
    "                full_path,          # liste de fichiers\n",
    "                analyzers=[analyzer],\n",
    "                lon=LON,\n",
    "                lat=LAT,\n",
    "                date=ANALYSIS_DATE,\n",
    "                min_conf=MIN_CONF,\n",
    "            )\n",
    "            # Replace the on_analyze_directory_complete callback\n",
    "            batch.on_analyze_directory_complete = lambda recs: on_analyze_directory_complete(\n",
    "            recs,\n",
    "            writer=writer,\n",
    "            gps_csv_path=ROOT_DIR + '/gps_coord.csv',\n",
    "            export_dir=EXPORT_DIR,\n",
    "            export_audio=EXPORT_AUDIO,\n",
    "            export_spectrograms=EXPORT_SPECTROGRAMS\n",
    "            )\n",
    "            # Launch the analysis\n",
    "            batch.process()\n",
    "\n",
    "# Close the CSV file\n",
    "csv_file.close()\n",
    "\n",
    "print(f\"✅ Analysis finished ; generated CSV :  {OUTPUT_CSV}\")\n"
   ]
  },
  {
   "cell_type": "markdown",
   "metadata": {},
   "source": [
    "## Data analysis"
   ]
  },
  {
   "cell_type": "markdown",
   "metadata": {},
   "source": [
    "### Load Data from csv if not already available"
   ]
  },
  {
   "cell_type": "code",
   "execution_count": 71,
   "metadata": {},
   "outputs": [],
   "source": [
    "df_detection = pd.read_csv('birdnet_detections_onef3.csv')"
   ]
  },
  {
   "cell_type": "markdown",
   "metadata": {},
   "source": [
    "### Data exploration"
   ]
  },
  {
   "cell_type": "markdown",
   "metadata": {},
   "source": [
    "#### A few useful lines if you want to check your dataframe"
   ]
  },
  {
   "cell_type": "code",
   "execution_count": 73,
   "metadata": {},
   "outputs": [
    {
     "data": {
      "text/plain": [
       "species\n",
       "Eurasian Bullfinch           17\n",
       "Goldcrest                    17\n",
       "Eurasian Wren                11\n",
       "Common Chaffinch             10\n",
       "Tawny Owl                     5\n",
       "Lesser Spotted Woodpecker     5\n",
       "Song Thrush                   4\n",
       "Spotted Flycatcher            3\n",
       "Eurasian Treecreeper          3\n",
       "Eurasian Jay                  3\n",
       "Long-tailed Tit               3\n",
       "Willow Tit                    2\n",
       "Hawfinch                      2\n",
       "Common Buzzard                1\n",
       "Dunnock                       1\n",
       "Great Spotted Woodpecker      1\n",
       "Tree Pipit                    1\n",
       "dtype: int64"
      ]
     },
     "execution_count": 73,
     "metadata": {},
     "output_type": "execute_result"
    }
   ],
   "source": [
    "df_detection.columns # will show all column names\n",
    "\n",
    "df_detection.head() # will show the first 5 rows of the dataframe\n",
    "\n",
    "df_detection[\"species\"].unique() # will show unique species names\n",
    "df_detection[\"species\"].nunique() # will show the number of unique species\n",
    "\n",
    "df_detection[\"confidence\"].describe() # will show statistics of confidence scores\n",
    "\n",
    "df_detection.shape # will show the shape of the dataframe (rows, columns)\n",
    "\n",
    "df_detection.size # will show the total number of elements in the dataframe\n",
    "\n",
    "df_detection.groupby(['folder']).size()  # will show the number of detections per folder\n",
    "\n",
    "df_detection.groupby(['species']).size().sort_values(ascending=False)  # will show the number of detections per species, sorted descending\n",
    "\n"
   ]
  },
  {
   "cell_type": "markdown",
   "metadata": {},
   "source": [
    "#### A few useful lines to shape your dataframe"
   ]
  },
  {
   "cell_type": "code",
   "execution_count": 74,
   "metadata": {},
   "outputs": [],
   "source": [
    "df_detection.sort_values(by=['altitude', 'datetime'], inplace=True) # Sort by altitude and datetime"
   ]
  },
  {
   "cell_type": "markdown",
   "metadata": {},
   "source": [
    "### Basic plot"
   ]
  },
  {
   "cell_type": "code",
   "execution_count": 75,
   "metadata": {},
   "outputs": [
    {
     "data": {
      "application/vnd.plotly.v1+json": {
       "config": {
        "plotlyServerURL": "https://plot.ly"
       },
       "data": [
        {
         "alignmentgroup": "True",
         "bingroup": "x",
         "histnorm": "",
         "hovertemplate": "altitude=1250<br>datetime=%{x}<br>=%{y}<extra></extra>",
         "legendgroup": "1250",
         "marker": {
          "color": "#636efa",
          "pattern": {
           "shape": ""
          }
         },
         "name": "1250",
         "offsetgroup": "1250",
         "orientation": "v",
         "showlegend": true,
         "type": "histogram",
         "x": [
          "2025-09-30 17:10:00",
          "2025-09-30 17:30:00",
          "2025-09-30 17:50:00",
          "2025-09-30 17:50:00",
          "2025-09-30 17:50:00",
          "2025-09-30 17:50:00",
          "2025-09-30 17:50:00",
          "2025-09-30 18:30:00",
          "2025-09-30 18:30:00",
          "2025-09-30 19:20:00",
          "2025-09-30 19:20:00",
          "2025-09-30 19:20:00",
          "2025-09-30 22:50:00",
          "2025-09-30 23:10:00",
          "2025-10-01 01:10:00",
          "2025-10-01 02:30:00",
          "2025-10-01 02:40:00",
          "2025-10-01 07:10:00",
          "2025-10-01 07:10:00",
          "2025-10-01 07:20:00",
          "2025-10-01 07:30:00",
          "2025-10-01 07:30:00",
          "2025-10-01 07:30:00",
          "2025-10-01 07:30:00",
          "2025-10-01 07:30:00",
          "2025-10-01 07:30:00",
          "2025-10-01 07:40:00",
          "2025-10-01 07:40:00",
          "2025-10-01 07:40:00",
          "2025-10-01 07:40:00",
          "2025-10-01 07:40:00",
          "2025-10-01 07:40:00",
          "2025-10-01 07:40:00",
          "2025-10-01 07:40:00",
          "2025-10-01 07:40:00",
          "2025-10-01 08:00:00",
          "2025-10-01 08:00:00",
          "2025-10-01 08:10:00",
          "2025-10-01 08:10:00",
          "2025-10-01 08:40:00",
          "2025-10-01 08:40:00",
          "2025-10-01 08:40:00",
          "2025-10-01 09:00:00",
          "2025-10-01 09:00:00",
          "2025-10-01 09:30:00",
          "2025-10-01 09:30:00",
          "2025-10-01 09:30:00",
          "2025-10-01 11:40:00",
          "2025-10-01 11:40:00",
          "2025-10-01 11:40:00",
          "2025-10-01 11:50:00",
          "2025-10-01 12:40:00",
          "2025-10-01 12:40:00",
          "2025-10-01 12:40:00",
          "2025-10-01 12:40:00",
          "2025-10-01 12:40:00",
          "2025-10-01 12:40:00",
          "2025-10-01 13:00:00",
          "2025-10-01 13:40:00",
          "2025-10-01 14:00:00",
          "2025-10-01 14:10:00",
          "2025-10-01 14:20:00",
          "2025-10-01 15:30:00",
          "2025-10-01 15:30:00",
          "2025-10-01 15:40:00",
          "2025-10-01 15:40:00",
          "2025-10-01 15:40:00",
          "2025-10-01 15:40:00",
          "2025-10-01 15:40:00",
          "2025-10-01 15:40:00",
          "2025-10-01 15:50:00",
          "2025-10-01 15:50:00",
          "2025-10-01 16:00:00",
          "2025-10-01 16:00:00",
          "2025-10-01 16:00:00",
          "2025-10-01 16:00:00",
          "2025-10-01 16:10:00",
          "2025-10-01 16:30:00",
          "2025-10-01 16:40:00",
          "2025-10-01 16:50:00",
          "2025-10-01 16:50:00",
          "2025-10-01 16:50:00",
          "2025-10-01 17:00:00",
          "2025-10-01 17:00:00",
          "2025-10-01 17:00:00",
          "2025-10-01 17:00:00",
          "2025-10-01 17:00:00",
          "2025-10-01 17:00:00",
          "2025-10-01 17:00:00"
         ],
         "xaxis": "x",
         "yaxis": "y"
        }
       ],
       "layout": {
        "barmode": "group",
        "legend": {
         "title": {
          "text": "altitude"
         },
         "tracegroupgap": 0
        },
        "template": {
         "data": {
          "bar": [
           {
            "error_x": {
             "color": "#2a3f5f"
            },
            "error_y": {
             "color": "#2a3f5f"
            },
            "marker": {
             "line": {
              "color": "#E5ECF6",
              "width": 0.5
             },
             "pattern": {
              "fillmode": "overlay",
              "size": 10,
              "solidity": 0.2
             }
            },
            "type": "bar"
           }
          ],
          "barpolar": [
           {
            "marker": {
             "line": {
              "color": "#E5ECF6",
              "width": 0.5
             },
             "pattern": {
              "fillmode": "overlay",
              "size": 10,
              "solidity": 0.2
             }
            },
            "type": "barpolar"
           }
          ],
          "carpet": [
           {
            "aaxis": {
             "endlinecolor": "#2a3f5f",
             "gridcolor": "white",
             "linecolor": "white",
             "minorgridcolor": "white",
             "startlinecolor": "#2a3f5f"
            },
            "baxis": {
             "endlinecolor": "#2a3f5f",
             "gridcolor": "white",
             "linecolor": "white",
             "minorgridcolor": "white",
             "startlinecolor": "#2a3f5f"
            },
            "type": "carpet"
           }
          ],
          "choropleth": [
           {
            "colorbar": {
             "outlinewidth": 0,
             "ticks": ""
            },
            "type": "choropleth"
           }
          ],
          "contour": [
           {
            "colorbar": {
             "outlinewidth": 0,
             "ticks": ""
            },
            "colorscale": [
             [
              0,
              "#0d0887"
             ],
             [
              0.1111111111111111,
              "#46039f"
             ],
             [
              0.2222222222222222,
              "#7201a8"
             ],
             [
              0.3333333333333333,
              "#9c179e"
             ],
             [
              0.4444444444444444,
              "#bd3786"
             ],
             [
              0.5555555555555556,
              "#d8576b"
             ],
             [
              0.6666666666666666,
              "#ed7953"
             ],
             [
              0.7777777777777778,
              "#fb9f3a"
             ],
             [
              0.8888888888888888,
              "#fdca26"
             ],
             [
              1,
              "#f0f921"
             ]
            ],
            "type": "contour"
           }
          ],
          "contourcarpet": [
           {
            "colorbar": {
             "outlinewidth": 0,
             "ticks": ""
            },
            "type": "contourcarpet"
           }
          ],
          "heatmap": [
           {
            "colorbar": {
             "outlinewidth": 0,
             "ticks": ""
            },
            "colorscale": [
             [
              0,
              "#0d0887"
             ],
             [
              0.1111111111111111,
              "#46039f"
             ],
             [
              0.2222222222222222,
              "#7201a8"
             ],
             [
              0.3333333333333333,
              "#9c179e"
             ],
             [
              0.4444444444444444,
              "#bd3786"
             ],
             [
              0.5555555555555556,
              "#d8576b"
             ],
             [
              0.6666666666666666,
              "#ed7953"
             ],
             [
              0.7777777777777778,
              "#fb9f3a"
             ],
             [
              0.8888888888888888,
              "#fdca26"
             ],
             [
              1,
              "#f0f921"
             ]
            ],
            "type": "heatmap"
           }
          ],
          "histogram": [
           {
            "marker": {
             "pattern": {
              "fillmode": "overlay",
              "size": 10,
              "solidity": 0.2
             }
            },
            "type": "histogram"
           }
          ],
          "histogram2d": [
           {
            "colorbar": {
             "outlinewidth": 0,
             "ticks": ""
            },
            "colorscale": [
             [
              0,
              "#0d0887"
             ],
             [
              0.1111111111111111,
              "#46039f"
             ],
             [
              0.2222222222222222,
              "#7201a8"
             ],
             [
              0.3333333333333333,
              "#9c179e"
             ],
             [
              0.4444444444444444,
              "#bd3786"
             ],
             [
              0.5555555555555556,
              "#d8576b"
             ],
             [
              0.6666666666666666,
              "#ed7953"
             ],
             [
              0.7777777777777778,
              "#fb9f3a"
             ],
             [
              0.8888888888888888,
              "#fdca26"
             ],
             [
              1,
              "#f0f921"
             ]
            ],
            "type": "histogram2d"
           }
          ],
          "histogram2dcontour": [
           {
            "colorbar": {
             "outlinewidth": 0,
             "ticks": ""
            },
            "colorscale": [
             [
              0,
              "#0d0887"
             ],
             [
              0.1111111111111111,
              "#46039f"
             ],
             [
              0.2222222222222222,
              "#7201a8"
             ],
             [
              0.3333333333333333,
              "#9c179e"
             ],
             [
              0.4444444444444444,
              "#bd3786"
             ],
             [
              0.5555555555555556,
              "#d8576b"
             ],
             [
              0.6666666666666666,
              "#ed7953"
             ],
             [
              0.7777777777777778,
              "#fb9f3a"
             ],
             [
              0.8888888888888888,
              "#fdca26"
             ],
             [
              1,
              "#f0f921"
             ]
            ],
            "type": "histogram2dcontour"
           }
          ],
          "mesh3d": [
           {
            "colorbar": {
             "outlinewidth": 0,
             "ticks": ""
            },
            "type": "mesh3d"
           }
          ],
          "parcoords": [
           {
            "line": {
             "colorbar": {
              "outlinewidth": 0,
              "ticks": ""
             }
            },
            "type": "parcoords"
           }
          ],
          "pie": [
           {
            "automargin": true,
            "type": "pie"
           }
          ],
          "scatter": [
           {
            "fillpattern": {
             "fillmode": "overlay",
             "size": 10,
             "solidity": 0.2
            },
            "type": "scatter"
           }
          ],
          "scatter3d": [
           {
            "line": {
             "colorbar": {
              "outlinewidth": 0,
              "ticks": ""
             }
            },
            "marker": {
             "colorbar": {
              "outlinewidth": 0,
              "ticks": ""
             }
            },
            "type": "scatter3d"
           }
          ],
          "scattercarpet": [
           {
            "marker": {
             "colorbar": {
              "outlinewidth": 0,
              "ticks": ""
             }
            },
            "type": "scattercarpet"
           }
          ],
          "scattergeo": [
           {
            "marker": {
             "colorbar": {
              "outlinewidth": 0,
              "ticks": ""
             }
            },
            "type": "scattergeo"
           }
          ],
          "scattergl": [
           {
            "marker": {
             "colorbar": {
              "outlinewidth": 0,
              "ticks": ""
             }
            },
            "type": "scattergl"
           }
          ],
          "scattermap": [
           {
            "marker": {
             "colorbar": {
              "outlinewidth": 0,
              "ticks": ""
             }
            },
            "type": "scattermap"
           }
          ],
          "scattermapbox": [
           {
            "marker": {
             "colorbar": {
              "outlinewidth": 0,
              "ticks": ""
             }
            },
            "type": "scattermapbox"
           }
          ],
          "scatterpolar": [
           {
            "marker": {
             "colorbar": {
              "outlinewidth": 0,
              "ticks": ""
             }
            },
            "type": "scatterpolar"
           }
          ],
          "scatterpolargl": [
           {
            "marker": {
             "colorbar": {
              "outlinewidth": 0,
              "ticks": ""
             }
            },
            "type": "scatterpolargl"
           }
          ],
          "scatterternary": [
           {
            "marker": {
             "colorbar": {
              "outlinewidth": 0,
              "ticks": ""
             }
            },
            "type": "scatterternary"
           }
          ],
          "surface": [
           {
            "colorbar": {
             "outlinewidth": 0,
             "ticks": ""
            },
            "colorscale": [
             [
              0,
              "#0d0887"
             ],
             [
              0.1111111111111111,
              "#46039f"
             ],
             [
              0.2222222222222222,
              "#7201a8"
             ],
             [
              0.3333333333333333,
              "#9c179e"
             ],
             [
              0.4444444444444444,
              "#bd3786"
             ],
             [
              0.5555555555555556,
              "#d8576b"
             ],
             [
              0.6666666666666666,
              "#ed7953"
             ],
             [
              0.7777777777777778,
              "#fb9f3a"
             ],
             [
              0.8888888888888888,
              "#fdca26"
             ],
             [
              1,
              "#f0f921"
             ]
            ],
            "type": "surface"
           }
          ],
          "table": [
           {
            "cells": {
             "fill": {
              "color": "#EBF0F8"
             },
             "line": {
              "color": "white"
             }
            },
            "header": {
             "fill": {
              "color": "#C8D4E3"
             },
             "line": {
              "color": "white"
             }
            },
            "type": "table"
           }
          ]
         },
         "layout": {
          "annotationdefaults": {
           "arrowcolor": "#2a3f5f",
           "arrowhead": 0,
           "arrowwidth": 1
          },
          "autotypenumbers": "strict",
          "coloraxis": {
           "colorbar": {
            "outlinewidth": 0,
            "ticks": ""
           }
          },
          "colorscale": {
           "diverging": [
            [
             0,
             "#8e0152"
            ],
            [
             0.1,
             "#c51b7d"
            ],
            [
             0.2,
             "#de77ae"
            ],
            [
             0.3,
             "#f1b6da"
            ],
            [
             0.4,
             "#fde0ef"
            ],
            [
             0.5,
             "#f7f7f7"
            ],
            [
             0.6,
             "#e6f5d0"
            ],
            [
             0.7,
             "#b8e186"
            ],
            [
             0.8,
             "#7fbc41"
            ],
            [
             0.9,
             "#4d9221"
            ],
            [
             1,
             "#276419"
            ]
           ],
           "sequential": [
            [
             0,
             "#0d0887"
            ],
            [
             0.1111111111111111,
             "#46039f"
            ],
            [
             0.2222222222222222,
             "#7201a8"
            ],
            [
             0.3333333333333333,
             "#9c179e"
            ],
            [
             0.4444444444444444,
             "#bd3786"
            ],
            [
             0.5555555555555556,
             "#d8576b"
            ],
            [
             0.6666666666666666,
             "#ed7953"
            ],
            [
             0.7777777777777778,
             "#fb9f3a"
            ],
            [
             0.8888888888888888,
             "#fdca26"
            ],
            [
             1,
             "#f0f921"
            ]
           ],
           "sequentialminus": [
            [
             0,
             "#0d0887"
            ],
            [
             0.1111111111111111,
             "#46039f"
            ],
            [
             0.2222222222222222,
             "#7201a8"
            ],
            [
             0.3333333333333333,
             "#9c179e"
            ],
            [
             0.4444444444444444,
             "#bd3786"
            ],
            [
             0.5555555555555556,
             "#d8576b"
            ],
            [
             0.6666666666666666,
             "#ed7953"
            ],
            [
             0.7777777777777778,
             "#fb9f3a"
            ],
            [
             0.8888888888888888,
             "#fdca26"
            ],
            [
             1,
             "#f0f921"
            ]
           ]
          },
          "colorway": [
           "#636efa",
           "#EF553B",
           "#00cc96",
           "#ab63fa",
           "#FFA15A",
           "#19d3f3",
           "#FF6692",
           "#B6E880",
           "#FF97FF",
           "#FECB52"
          ],
          "font": {
           "color": "#2a3f5f"
          },
          "geo": {
           "bgcolor": "white",
           "lakecolor": "white",
           "landcolor": "#E5ECF6",
           "showlakes": true,
           "showland": true,
           "subunitcolor": "white"
          },
          "hoverlabel": {
           "align": "left"
          },
          "hovermode": "closest",
          "mapbox": {
           "style": "light"
          },
          "paper_bgcolor": "white",
          "plot_bgcolor": "#E5ECF6",
          "polar": {
           "angularaxis": {
            "gridcolor": "white",
            "linecolor": "white",
            "ticks": ""
           },
           "bgcolor": "#E5ECF6",
           "radialaxis": {
            "gridcolor": "white",
            "linecolor": "white",
            "ticks": ""
           }
          },
          "scene": {
           "xaxis": {
            "backgroundcolor": "#E5ECF6",
            "gridcolor": "white",
            "gridwidth": 2,
            "linecolor": "white",
            "showbackground": true,
            "ticks": "",
            "zerolinecolor": "white"
           },
           "yaxis": {
            "backgroundcolor": "#E5ECF6",
            "gridcolor": "white",
            "gridwidth": 2,
            "linecolor": "white",
            "showbackground": true,
            "ticks": "",
            "zerolinecolor": "white"
           },
           "zaxis": {
            "backgroundcolor": "#E5ECF6",
            "gridcolor": "white",
            "gridwidth": 2,
            "linecolor": "white",
            "showbackground": true,
            "ticks": "",
            "zerolinecolor": "white"
           }
          },
          "shapedefaults": {
           "line": {
            "color": "#2a3f5f"
           }
          },
          "ternary": {
           "aaxis": {
            "gridcolor": "white",
            "linecolor": "white",
            "ticks": ""
           },
           "baxis": {
            "gridcolor": "white",
            "linecolor": "white",
            "ticks": ""
           },
           "bgcolor": "#E5ECF6",
           "caxis": {
            "gridcolor": "white",
            "linecolor": "white",
            "ticks": ""
           }
          },
          "title": {
           "x": 0.05
          },
          "xaxis": {
           "automargin": true,
           "gridcolor": "white",
           "linecolor": "white",
           "ticks": "",
           "title": {
            "standoff": 15
           },
           "zerolinecolor": "white",
           "zerolinewidth": 2
          },
          "yaxis": {
           "automargin": true,
           "gridcolor": "white",
           "linecolor": "white",
           "ticks": "",
           "title": {
            "standoff": 15
           },
           "zerolinecolor": "white",
           "zerolinewidth": 2
          }
         }
        },
        "title": {
         "text": "Histogramme des détections BirdNet au fil du temps"
        },
        "xaxis": {
         "anchor": "y",
         "domain": [
          0,
          1
         ],
         "title": {
          "text": "datetime"
         }
        },
        "yaxis": {
         "anchor": "x",
         "domain": [
          0,
          1
         ],
         "title": {
          "text": ""
         }
        }
       }
      }
     },
     "metadata": {},
     "output_type": "display_data"
    }
   ],
   "source": [
    "fig = px.histogram(\n",
    "    df_detection,\n",
    "    x='datetime',\n",
    "    color='altitude',\n",
    "    # nbins=50,\n",
    "    title='Histogramme des détections BirdNet au fil du temps',\n",
    "    barmode='group', \n",
    "    histnorm=''\n",
    ")\n",
    "\n",
    "fig.show()"
   ]
  },
  {
   "cell_type": "markdown",
   "metadata": {},
   "source": [
    "### Compute the number of microphones per altitude (in order to be able to compare the results)"
   ]
  },
  {
   "cell_type": "code",
   "execution_count": 76,
   "metadata": {},
   "outputs": [],
   "source": [
    "df_detec_norm = (\n",
    "    df_detection\n",
    "    .groupby([\"altitude\", \"datetime\"])\n",
    "    .size()\n",
    "    .rename(\"counts\")\n",
    "    .reset_index()\n",
    ")\n",
    "\n",
    "# Ajout du nombre de micros par altitude\n",
    "mic_counts = df_detection.groupby(\"altitude\")[\"folder\"].nunique().rename(\"mic_count\")\n",
    "df_detec_norm = df_detec_norm.merge(mic_counts, on=\"altitude\", how=\"left\")\n",
    "\n",
    "# Normalisation par micro\n",
    "df_detec_norm[\"norm_counts\"] = df_detec_norm[\"counts\"] / df_detec_norm[\"mic_count\"]"
   ]
  },
  {
   "cell_type": "markdown",
   "metadata": {},
   "source": [
    "### Figure"
   ]
  },
  {
   "cell_type": "code",
   "execution_count": 77,
   "metadata": {},
   "outputs": [
    {
     "data": {
      "application/vnd.plotly.v1+json": {
       "config": {
        "plotlyServerURL": "https://plot.ly"
       },
       "data": [
        {
         "alignmentgroup": "True",
         "bingroup": "x",
         "histfunc": "sum",
         "hovertemplate": "altitude=1250<br>datetime=%{x}<br>sum of Détections / micro=%{y}<extra></extra>",
         "legendgroup": "1250",
         "marker": {
          "color": "#636efa",
          "pattern": {
           "shape": ""
          }
         },
         "name": "1250",
         "nbinsx": 25,
         "offsetgroup": "1250",
         "orientation": "v",
         "showlegend": true,
         "type": "histogram",
         "x": [
          "2025-09-30 17:10:00",
          "2025-09-30 17:30:00",
          "2025-09-30 17:50:00",
          "2025-09-30 18:30:00",
          "2025-09-30 19:20:00",
          "2025-09-30 22:50:00",
          "2025-09-30 23:10:00",
          "2025-10-01 01:10:00",
          "2025-10-01 02:30:00",
          "2025-10-01 02:40:00",
          "2025-10-01 07:10:00",
          "2025-10-01 07:20:00",
          "2025-10-01 07:30:00",
          "2025-10-01 07:40:00",
          "2025-10-01 08:00:00",
          "2025-10-01 08:10:00",
          "2025-10-01 08:40:00",
          "2025-10-01 09:00:00",
          "2025-10-01 09:30:00",
          "2025-10-01 11:40:00",
          "2025-10-01 11:50:00",
          "2025-10-01 12:40:00",
          "2025-10-01 13:00:00",
          "2025-10-01 13:40:00",
          "2025-10-01 14:00:00",
          "2025-10-01 14:10:00",
          "2025-10-01 14:20:00",
          "2025-10-01 15:30:00",
          "2025-10-01 15:40:00",
          "2025-10-01 15:50:00",
          "2025-10-01 16:00:00",
          "2025-10-01 16:10:00",
          "2025-10-01 16:30:00",
          "2025-10-01 16:40:00",
          "2025-10-01 16:50:00",
          "2025-10-01 17:00:00"
         ],
         "xaxis": "x",
         "y": {
          "bdata": "AAAAAAAA8D8AAAAAAADwPwAAAAAAABRAAAAAAAAAAEAAAAAAAAAIQAAAAAAAAPA/AAAAAAAA8D8AAAAAAADwPwAAAAAAAPA/AAAAAAAA8D8AAAAAAAAAQAAAAAAAAPA/AAAAAAAAGEAAAAAAAAAiQAAAAAAAAABAAAAAAAAAAEAAAAAAAAAIQAAAAAAAAABAAAAAAAAACEAAAAAAAAAIQAAAAAAAAPA/AAAAAAAAGEAAAAAAAADwPwAAAAAAAPA/AAAAAAAA8D8AAAAAAADwPwAAAAAAAPA/AAAAAAAAAEAAAAAAAAAYQAAAAAAAAABAAAAAAAAAEEAAAAAAAADwPwAAAAAAAPA/AAAAAAAA8D8AAAAAAAAIQAAAAAAAABxA",
          "dtype": "f8"
         },
         "yaxis": "y"
        }
       ],
       "layout": {
        "barmode": "group",
        "legend": {
         "title": {
          "text": "altitude"
         },
         "tracegroupgap": 0
        },
        "template": {
         "data": {
          "bar": [
           {
            "error_x": {
             "color": "#2a3f5f"
            },
            "error_y": {
             "color": "#2a3f5f"
            },
            "marker": {
             "line": {
              "color": "#E5ECF6",
              "width": 0.5
             },
             "pattern": {
              "fillmode": "overlay",
              "size": 10,
              "solidity": 0.2
             }
            },
            "type": "bar"
           }
          ],
          "barpolar": [
           {
            "marker": {
             "line": {
              "color": "#E5ECF6",
              "width": 0.5
             },
             "pattern": {
              "fillmode": "overlay",
              "size": 10,
              "solidity": 0.2
             }
            },
            "type": "barpolar"
           }
          ],
          "carpet": [
           {
            "aaxis": {
             "endlinecolor": "#2a3f5f",
             "gridcolor": "white",
             "linecolor": "white",
             "minorgridcolor": "white",
             "startlinecolor": "#2a3f5f"
            },
            "baxis": {
             "endlinecolor": "#2a3f5f",
             "gridcolor": "white",
             "linecolor": "white",
             "minorgridcolor": "white",
             "startlinecolor": "#2a3f5f"
            },
            "type": "carpet"
           }
          ],
          "choropleth": [
           {
            "colorbar": {
             "outlinewidth": 0,
             "ticks": ""
            },
            "type": "choropleth"
           }
          ],
          "contour": [
           {
            "colorbar": {
             "outlinewidth": 0,
             "ticks": ""
            },
            "colorscale": [
             [
              0,
              "#0d0887"
             ],
             [
              0.1111111111111111,
              "#46039f"
             ],
             [
              0.2222222222222222,
              "#7201a8"
             ],
             [
              0.3333333333333333,
              "#9c179e"
             ],
             [
              0.4444444444444444,
              "#bd3786"
             ],
             [
              0.5555555555555556,
              "#d8576b"
             ],
             [
              0.6666666666666666,
              "#ed7953"
             ],
             [
              0.7777777777777778,
              "#fb9f3a"
             ],
             [
              0.8888888888888888,
              "#fdca26"
             ],
             [
              1,
              "#f0f921"
             ]
            ],
            "type": "contour"
           }
          ],
          "contourcarpet": [
           {
            "colorbar": {
             "outlinewidth": 0,
             "ticks": ""
            },
            "type": "contourcarpet"
           }
          ],
          "heatmap": [
           {
            "colorbar": {
             "outlinewidth": 0,
             "ticks": ""
            },
            "colorscale": [
             [
              0,
              "#0d0887"
             ],
             [
              0.1111111111111111,
              "#46039f"
             ],
             [
              0.2222222222222222,
              "#7201a8"
             ],
             [
              0.3333333333333333,
              "#9c179e"
             ],
             [
              0.4444444444444444,
              "#bd3786"
             ],
             [
              0.5555555555555556,
              "#d8576b"
             ],
             [
              0.6666666666666666,
              "#ed7953"
             ],
             [
              0.7777777777777778,
              "#fb9f3a"
             ],
             [
              0.8888888888888888,
              "#fdca26"
             ],
             [
              1,
              "#f0f921"
             ]
            ],
            "type": "heatmap"
           }
          ],
          "histogram": [
           {
            "marker": {
             "pattern": {
              "fillmode": "overlay",
              "size": 10,
              "solidity": 0.2
             }
            },
            "type": "histogram"
           }
          ],
          "histogram2d": [
           {
            "colorbar": {
             "outlinewidth": 0,
             "ticks": ""
            },
            "colorscale": [
             [
              0,
              "#0d0887"
             ],
             [
              0.1111111111111111,
              "#46039f"
             ],
             [
              0.2222222222222222,
              "#7201a8"
             ],
             [
              0.3333333333333333,
              "#9c179e"
             ],
             [
              0.4444444444444444,
              "#bd3786"
             ],
             [
              0.5555555555555556,
              "#d8576b"
             ],
             [
              0.6666666666666666,
              "#ed7953"
             ],
             [
              0.7777777777777778,
              "#fb9f3a"
             ],
             [
              0.8888888888888888,
              "#fdca26"
             ],
             [
              1,
              "#f0f921"
             ]
            ],
            "type": "histogram2d"
           }
          ],
          "histogram2dcontour": [
           {
            "colorbar": {
             "outlinewidth": 0,
             "ticks": ""
            },
            "colorscale": [
             [
              0,
              "#0d0887"
             ],
             [
              0.1111111111111111,
              "#46039f"
             ],
             [
              0.2222222222222222,
              "#7201a8"
             ],
             [
              0.3333333333333333,
              "#9c179e"
             ],
             [
              0.4444444444444444,
              "#bd3786"
             ],
             [
              0.5555555555555556,
              "#d8576b"
             ],
             [
              0.6666666666666666,
              "#ed7953"
             ],
             [
              0.7777777777777778,
              "#fb9f3a"
             ],
             [
              0.8888888888888888,
              "#fdca26"
             ],
             [
              1,
              "#f0f921"
             ]
            ],
            "type": "histogram2dcontour"
           }
          ],
          "mesh3d": [
           {
            "colorbar": {
             "outlinewidth": 0,
             "ticks": ""
            },
            "type": "mesh3d"
           }
          ],
          "parcoords": [
           {
            "line": {
             "colorbar": {
              "outlinewidth": 0,
              "ticks": ""
             }
            },
            "type": "parcoords"
           }
          ],
          "pie": [
           {
            "automargin": true,
            "type": "pie"
           }
          ],
          "scatter": [
           {
            "fillpattern": {
             "fillmode": "overlay",
             "size": 10,
             "solidity": 0.2
            },
            "type": "scatter"
           }
          ],
          "scatter3d": [
           {
            "line": {
             "colorbar": {
              "outlinewidth": 0,
              "ticks": ""
             }
            },
            "marker": {
             "colorbar": {
              "outlinewidth": 0,
              "ticks": ""
             }
            },
            "type": "scatter3d"
           }
          ],
          "scattercarpet": [
           {
            "marker": {
             "colorbar": {
              "outlinewidth": 0,
              "ticks": ""
             }
            },
            "type": "scattercarpet"
           }
          ],
          "scattergeo": [
           {
            "marker": {
             "colorbar": {
              "outlinewidth": 0,
              "ticks": ""
             }
            },
            "type": "scattergeo"
           }
          ],
          "scattergl": [
           {
            "marker": {
             "colorbar": {
              "outlinewidth": 0,
              "ticks": ""
             }
            },
            "type": "scattergl"
           }
          ],
          "scattermap": [
           {
            "marker": {
             "colorbar": {
              "outlinewidth": 0,
              "ticks": ""
             }
            },
            "type": "scattermap"
           }
          ],
          "scattermapbox": [
           {
            "marker": {
             "colorbar": {
              "outlinewidth": 0,
              "ticks": ""
             }
            },
            "type": "scattermapbox"
           }
          ],
          "scatterpolar": [
           {
            "marker": {
             "colorbar": {
              "outlinewidth": 0,
              "ticks": ""
             }
            },
            "type": "scatterpolar"
           }
          ],
          "scatterpolargl": [
           {
            "marker": {
             "colorbar": {
              "outlinewidth": 0,
              "ticks": ""
             }
            },
            "type": "scatterpolargl"
           }
          ],
          "scatterternary": [
           {
            "marker": {
             "colorbar": {
              "outlinewidth": 0,
              "ticks": ""
             }
            },
            "type": "scatterternary"
           }
          ],
          "surface": [
           {
            "colorbar": {
             "outlinewidth": 0,
             "ticks": ""
            },
            "colorscale": [
             [
              0,
              "#0d0887"
             ],
             [
              0.1111111111111111,
              "#46039f"
             ],
             [
              0.2222222222222222,
              "#7201a8"
             ],
             [
              0.3333333333333333,
              "#9c179e"
             ],
             [
              0.4444444444444444,
              "#bd3786"
             ],
             [
              0.5555555555555556,
              "#d8576b"
             ],
             [
              0.6666666666666666,
              "#ed7953"
             ],
             [
              0.7777777777777778,
              "#fb9f3a"
             ],
             [
              0.8888888888888888,
              "#fdca26"
             ],
             [
              1,
              "#f0f921"
             ]
            ],
            "type": "surface"
           }
          ],
          "table": [
           {
            "cells": {
             "fill": {
              "color": "#EBF0F8"
             },
             "line": {
              "color": "white"
             }
            },
            "header": {
             "fill": {
              "color": "#C8D4E3"
             },
             "line": {
              "color": "white"
             }
            },
            "type": "table"
           }
          ]
         },
         "layout": {
          "annotationdefaults": {
           "arrowcolor": "#2a3f5f",
           "arrowhead": 0,
           "arrowwidth": 1
          },
          "autotypenumbers": "strict",
          "coloraxis": {
           "colorbar": {
            "outlinewidth": 0,
            "ticks": ""
           }
          },
          "colorscale": {
           "diverging": [
            [
             0,
             "#8e0152"
            ],
            [
             0.1,
             "#c51b7d"
            ],
            [
             0.2,
             "#de77ae"
            ],
            [
             0.3,
             "#f1b6da"
            ],
            [
             0.4,
             "#fde0ef"
            ],
            [
             0.5,
             "#f7f7f7"
            ],
            [
             0.6,
             "#e6f5d0"
            ],
            [
             0.7,
             "#b8e186"
            ],
            [
             0.8,
             "#7fbc41"
            ],
            [
             0.9,
             "#4d9221"
            ],
            [
             1,
             "#276419"
            ]
           ],
           "sequential": [
            [
             0,
             "#0d0887"
            ],
            [
             0.1111111111111111,
             "#46039f"
            ],
            [
             0.2222222222222222,
             "#7201a8"
            ],
            [
             0.3333333333333333,
             "#9c179e"
            ],
            [
             0.4444444444444444,
             "#bd3786"
            ],
            [
             0.5555555555555556,
             "#d8576b"
            ],
            [
             0.6666666666666666,
             "#ed7953"
            ],
            [
             0.7777777777777778,
             "#fb9f3a"
            ],
            [
             0.8888888888888888,
             "#fdca26"
            ],
            [
             1,
             "#f0f921"
            ]
           ],
           "sequentialminus": [
            [
             0,
             "#0d0887"
            ],
            [
             0.1111111111111111,
             "#46039f"
            ],
            [
             0.2222222222222222,
             "#7201a8"
            ],
            [
             0.3333333333333333,
             "#9c179e"
            ],
            [
             0.4444444444444444,
             "#bd3786"
            ],
            [
             0.5555555555555556,
             "#d8576b"
            ],
            [
             0.6666666666666666,
             "#ed7953"
            ],
            [
             0.7777777777777778,
             "#fb9f3a"
            ],
            [
             0.8888888888888888,
             "#fdca26"
            ],
            [
             1,
             "#f0f921"
            ]
           ]
          },
          "colorway": [
           "#636efa",
           "#EF553B",
           "#00cc96",
           "#ab63fa",
           "#FFA15A",
           "#19d3f3",
           "#FF6692",
           "#B6E880",
           "#FF97FF",
           "#FECB52"
          ],
          "font": {
           "color": "#2a3f5f"
          },
          "geo": {
           "bgcolor": "white",
           "lakecolor": "white",
           "landcolor": "#E5ECF6",
           "showlakes": true,
           "showland": true,
           "subunitcolor": "white"
          },
          "hoverlabel": {
           "align": "left"
          },
          "hovermode": "closest",
          "mapbox": {
           "style": "light"
          },
          "paper_bgcolor": "white",
          "plot_bgcolor": "#E5ECF6",
          "polar": {
           "angularaxis": {
            "gridcolor": "white",
            "linecolor": "white",
            "ticks": ""
           },
           "bgcolor": "#E5ECF6",
           "radialaxis": {
            "gridcolor": "white",
            "linecolor": "white",
            "ticks": ""
           }
          },
          "scene": {
           "xaxis": {
            "backgroundcolor": "#E5ECF6",
            "gridcolor": "white",
            "gridwidth": 2,
            "linecolor": "white",
            "showbackground": true,
            "ticks": "",
            "zerolinecolor": "white"
           },
           "yaxis": {
            "backgroundcolor": "#E5ECF6",
            "gridcolor": "white",
            "gridwidth": 2,
            "linecolor": "white",
            "showbackground": true,
            "ticks": "",
            "zerolinecolor": "white"
           },
           "zaxis": {
            "backgroundcolor": "#E5ECF6",
            "gridcolor": "white",
            "gridwidth": 2,
            "linecolor": "white",
            "showbackground": true,
            "ticks": "",
            "zerolinecolor": "white"
           }
          },
          "shapedefaults": {
           "line": {
            "color": "#2a3f5f"
           }
          },
          "ternary": {
           "aaxis": {
            "gridcolor": "white",
            "linecolor": "white",
            "ticks": ""
           },
           "baxis": {
            "gridcolor": "white",
            "linecolor": "white",
            "ticks": ""
           },
           "bgcolor": "#E5ECF6",
           "caxis": {
            "gridcolor": "white",
            "linecolor": "white",
            "ticks": ""
           }
          },
          "title": {
           "x": 0.05
          },
          "xaxis": {
           "automargin": true,
           "gridcolor": "white",
           "linecolor": "white",
           "ticks": "",
           "title": {
            "standoff": 15
           },
           "zerolinecolor": "white",
           "zerolinewidth": 2
          },
          "yaxis": {
           "automargin": true,
           "gridcolor": "white",
           "linecolor": "white",
           "ticks": "",
           "title": {
            "standoff": 15
           },
           "zerolinecolor": "white",
           "zerolinewidth": 2
          }
         }
        },
        "title": {
         "text": "Détections BirdNET normalisées par le nombre de micros"
        },
        "xaxis": {
         "anchor": "y",
         "domain": [
          0,
          1
         ],
         "title": {
          "text": "datetime"
         }
        },
        "yaxis": {
         "anchor": "x",
         "domain": [
          0,
          1
         ],
         "title": {
          "text": "sum of Détections / micro"
         }
        }
       }
      }
     },
     "metadata": {},
     "output_type": "display_data"
    }
   ],
   "source": [
    "fig = px.histogram(\n",
    "    df_detec_norm,\n",
    "    x=\"datetime\",\n",
    "    y=\"norm_counts\",\n",
    "    color=\"altitude\",\n",
    "    title=\"Détections BirdNET normalisées par le nombre de micros\",\n",
    "    labels={\"norm_counts\": \"Détections / micro\"},\n",
    "    nbins=25,\n",
    "    barmode='group',\n",
    ")\n",
    "fig.show()"
   ]
  },
  {
   "cell_type": "markdown",
   "metadata": {},
   "source": [
    "### A few lines to analyze our birbs"
   ]
  },
  {
   "cell_type": "code",
   "execution_count": 78,
   "metadata": {},
   "outputs": [],
   "source": [
    "df_detection.groupby(['altitude']).size() # will show the number of detections per altitude\n",
    "\n",
    "\n",
    "species_df = df_detection.groupby(['species'], as_index=False)['file_name'].count() # creates a DataFrame with species and their detection counts\n",
    "species_df.rename(columns={'file_name': 'detection_count'}, inplace=True)  # rename column for clarity\n",
    "species_df[\"mean_confidence\"] = df_detection.groupby('species')['confidence'].mean().values # calculate mean confidence per species\n",
    "species_df[\"mean_confidence\"] = df_detection.groupby('species')['confidence'].median().values # calculate median confidence per species\n",
    "species_df.sort_values(by='detection_count', ascending=False, inplace=True) # sort by detection count descending\n",
    "\n",
    "sorted_species_df = species_df[species_df[\"mean_confidence\"] >0.5] # filter species with mean confidence > 0.5\n"
   ]
  },
  {
   "cell_type": "code",
   "execution_count": 79,
   "metadata": {},
   "outputs": [],
   "source": [
    "specific_richness_df = df_detection.groupby(['altitude', 'datetime'])['species'].nunique().reset_index() # count unique species per altitude and datetime"
   ]
  },
  {
   "cell_type": "code",
   "execution_count": 80,
   "metadata": {},
   "outputs": [
    {
     "data": {
      "application/vnd.plotly.v1+json": {
       "config": {
        "plotlyServerURL": "https://plot.ly"
       },
       "data": [
        {
         "alignmentgroup": "True",
         "bingroup": "x",
         "histfunc": "sum",
         "hovertemplate": "altitude=1250<br>datetime=%{x}<br>sum of species=%{y}<extra></extra>",
         "legendgroup": "1250",
         "marker": {
          "color": "#636efa",
          "pattern": {
           "shape": ""
          }
         },
         "name": "1250",
         "nbinsx": 25,
         "offsetgroup": "1250",
         "orientation": "v",
         "showlegend": true,
         "type": "histogram",
         "x": [
          "2025-09-30 17:10:00",
          "2025-09-30 17:30:00",
          "2025-09-30 17:50:00",
          "2025-09-30 18:30:00",
          "2025-09-30 19:20:00",
          "2025-09-30 22:50:00",
          "2025-09-30 23:10:00",
          "2025-10-01 01:10:00",
          "2025-10-01 02:30:00",
          "2025-10-01 02:40:00",
          "2025-10-01 07:10:00",
          "2025-10-01 07:20:00",
          "2025-10-01 07:30:00",
          "2025-10-01 07:40:00",
          "2025-10-01 08:00:00",
          "2025-10-01 08:10:00",
          "2025-10-01 08:40:00",
          "2025-10-01 09:00:00",
          "2025-10-01 09:30:00",
          "2025-10-01 11:40:00",
          "2025-10-01 11:50:00",
          "2025-10-01 12:40:00",
          "2025-10-01 13:00:00",
          "2025-10-01 13:40:00",
          "2025-10-01 14:00:00",
          "2025-10-01 14:10:00",
          "2025-10-01 14:20:00",
          "2025-10-01 15:30:00",
          "2025-10-01 15:40:00",
          "2025-10-01 15:50:00",
          "2025-10-01 16:00:00",
          "2025-10-01 16:10:00",
          "2025-10-01 16:30:00",
          "2025-10-01 16:40:00",
          "2025-10-01 16:50:00",
          "2025-10-01 17:00:00"
         ],
         "xaxis": "x",
         "y": {
          "bdata": "AQECAQEBAQEBAQIBAQIBAQICAgIBAQEBAQEBAQECAgEBAQID",
          "dtype": "i1"
         },
         "yaxis": "y"
        }
       ],
       "layout": {
        "barmode": "group",
        "legend": {
         "title": {
          "text": "altitude"
         },
         "tracegroupgap": 0
        },
        "template": {
         "data": {
          "bar": [
           {
            "error_x": {
             "color": "#2a3f5f"
            },
            "error_y": {
             "color": "#2a3f5f"
            },
            "marker": {
             "line": {
              "color": "#E5ECF6",
              "width": 0.5
             },
             "pattern": {
              "fillmode": "overlay",
              "size": 10,
              "solidity": 0.2
             }
            },
            "type": "bar"
           }
          ],
          "barpolar": [
           {
            "marker": {
             "line": {
              "color": "#E5ECF6",
              "width": 0.5
             },
             "pattern": {
              "fillmode": "overlay",
              "size": 10,
              "solidity": 0.2
             }
            },
            "type": "barpolar"
           }
          ],
          "carpet": [
           {
            "aaxis": {
             "endlinecolor": "#2a3f5f",
             "gridcolor": "white",
             "linecolor": "white",
             "minorgridcolor": "white",
             "startlinecolor": "#2a3f5f"
            },
            "baxis": {
             "endlinecolor": "#2a3f5f",
             "gridcolor": "white",
             "linecolor": "white",
             "minorgridcolor": "white",
             "startlinecolor": "#2a3f5f"
            },
            "type": "carpet"
           }
          ],
          "choropleth": [
           {
            "colorbar": {
             "outlinewidth": 0,
             "ticks": ""
            },
            "type": "choropleth"
           }
          ],
          "contour": [
           {
            "colorbar": {
             "outlinewidth": 0,
             "ticks": ""
            },
            "colorscale": [
             [
              0,
              "#0d0887"
             ],
             [
              0.1111111111111111,
              "#46039f"
             ],
             [
              0.2222222222222222,
              "#7201a8"
             ],
             [
              0.3333333333333333,
              "#9c179e"
             ],
             [
              0.4444444444444444,
              "#bd3786"
             ],
             [
              0.5555555555555556,
              "#d8576b"
             ],
             [
              0.6666666666666666,
              "#ed7953"
             ],
             [
              0.7777777777777778,
              "#fb9f3a"
             ],
             [
              0.8888888888888888,
              "#fdca26"
             ],
             [
              1,
              "#f0f921"
             ]
            ],
            "type": "contour"
           }
          ],
          "contourcarpet": [
           {
            "colorbar": {
             "outlinewidth": 0,
             "ticks": ""
            },
            "type": "contourcarpet"
           }
          ],
          "heatmap": [
           {
            "colorbar": {
             "outlinewidth": 0,
             "ticks": ""
            },
            "colorscale": [
             [
              0,
              "#0d0887"
             ],
             [
              0.1111111111111111,
              "#46039f"
             ],
             [
              0.2222222222222222,
              "#7201a8"
             ],
             [
              0.3333333333333333,
              "#9c179e"
             ],
             [
              0.4444444444444444,
              "#bd3786"
             ],
             [
              0.5555555555555556,
              "#d8576b"
             ],
             [
              0.6666666666666666,
              "#ed7953"
             ],
             [
              0.7777777777777778,
              "#fb9f3a"
             ],
             [
              0.8888888888888888,
              "#fdca26"
             ],
             [
              1,
              "#f0f921"
             ]
            ],
            "type": "heatmap"
           }
          ],
          "histogram": [
           {
            "marker": {
             "pattern": {
              "fillmode": "overlay",
              "size": 10,
              "solidity": 0.2
             }
            },
            "type": "histogram"
           }
          ],
          "histogram2d": [
           {
            "colorbar": {
             "outlinewidth": 0,
             "ticks": ""
            },
            "colorscale": [
             [
              0,
              "#0d0887"
             ],
             [
              0.1111111111111111,
              "#46039f"
             ],
             [
              0.2222222222222222,
              "#7201a8"
             ],
             [
              0.3333333333333333,
              "#9c179e"
             ],
             [
              0.4444444444444444,
              "#bd3786"
             ],
             [
              0.5555555555555556,
              "#d8576b"
             ],
             [
              0.6666666666666666,
              "#ed7953"
             ],
             [
              0.7777777777777778,
              "#fb9f3a"
             ],
             [
              0.8888888888888888,
              "#fdca26"
             ],
             [
              1,
              "#f0f921"
             ]
            ],
            "type": "histogram2d"
           }
          ],
          "histogram2dcontour": [
           {
            "colorbar": {
             "outlinewidth": 0,
             "ticks": ""
            },
            "colorscale": [
             [
              0,
              "#0d0887"
             ],
             [
              0.1111111111111111,
              "#46039f"
             ],
             [
              0.2222222222222222,
              "#7201a8"
             ],
             [
              0.3333333333333333,
              "#9c179e"
             ],
             [
              0.4444444444444444,
              "#bd3786"
             ],
             [
              0.5555555555555556,
              "#d8576b"
             ],
             [
              0.6666666666666666,
              "#ed7953"
             ],
             [
              0.7777777777777778,
              "#fb9f3a"
             ],
             [
              0.8888888888888888,
              "#fdca26"
             ],
             [
              1,
              "#f0f921"
             ]
            ],
            "type": "histogram2dcontour"
           }
          ],
          "mesh3d": [
           {
            "colorbar": {
             "outlinewidth": 0,
             "ticks": ""
            },
            "type": "mesh3d"
           }
          ],
          "parcoords": [
           {
            "line": {
             "colorbar": {
              "outlinewidth": 0,
              "ticks": ""
             }
            },
            "type": "parcoords"
           }
          ],
          "pie": [
           {
            "automargin": true,
            "type": "pie"
           }
          ],
          "scatter": [
           {
            "fillpattern": {
             "fillmode": "overlay",
             "size": 10,
             "solidity": 0.2
            },
            "type": "scatter"
           }
          ],
          "scatter3d": [
           {
            "line": {
             "colorbar": {
              "outlinewidth": 0,
              "ticks": ""
             }
            },
            "marker": {
             "colorbar": {
              "outlinewidth": 0,
              "ticks": ""
             }
            },
            "type": "scatter3d"
           }
          ],
          "scattercarpet": [
           {
            "marker": {
             "colorbar": {
              "outlinewidth": 0,
              "ticks": ""
             }
            },
            "type": "scattercarpet"
           }
          ],
          "scattergeo": [
           {
            "marker": {
             "colorbar": {
              "outlinewidth": 0,
              "ticks": ""
             }
            },
            "type": "scattergeo"
           }
          ],
          "scattergl": [
           {
            "marker": {
             "colorbar": {
              "outlinewidth": 0,
              "ticks": ""
             }
            },
            "type": "scattergl"
           }
          ],
          "scattermap": [
           {
            "marker": {
             "colorbar": {
              "outlinewidth": 0,
              "ticks": ""
             }
            },
            "type": "scattermap"
           }
          ],
          "scattermapbox": [
           {
            "marker": {
             "colorbar": {
              "outlinewidth": 0,
              "ticks": ""
             }
            },
            "type": "scattermapbox"
           }
          ],
          "scatterpolar": [
           {
            "marker": {
             "colorbar": {
              "outlinewidth": 0,
              "ticks": ""
             }
            },
            "type": "scatterpolar"
           }
          ],
          "scatterpolargl": [
           {
            "marker": {
             "colorbar": {
              "outlinewidth": 0,
              "ticks": ""
             }
            },
            "type": "scatterpolargl"
           }
          ],
          "scatterternary": [
           {
            "marker": {
             "colorbar": {
              "outlinewidth": 0,
              "ticks": ""
             }
            },
            "type": "scatterternary"
           }
          ],
          "surface": [
           {
            "colorbar": {
             "outlinewidth": 0,
             "ticks": ""
            },
            "colorscale": [
             [
              0,
              "#0d0887"
             ],
             [
              0.1111111111111111,
              "#46039f"
             ],
             [
              0.2222222222222222,
              "#7201a8"
             ],
             [
              0.3333333333333333,
              "#9c179e"
             ],
             [
              0.4444444444444444,
              "#bd3786"
             ],
             [
              0.5555555555555556,
              "#d8576b"
             ],
             [
              0.6666666666666666,
              "#ed7953"
             ],
             [
              0.7777777777777778,
              "#fb9f3a"
             ],
             [
              0.8888888888888888,
              "#fdca26"
             ],
             [
              1,
              "#f0f921"
             ]
            ],
            "type": "surface"
           }
          ],
          "table": [
           {
            "cells": {
             "fill": {
              "color": "#EBF0F8"
             },
             "line": {
              "color": "white"
             }
            },
            "header": {
             "fill": {
              "color": "#C8D4E3"
             },
             "line": {
              "color": "white"
             }
            },
            "type": "table"
           }
          ]
         },
         "layout": {
          "annotationdefaults": {
           "arrowcolor": "#2a3f5f",
           "arrowhead": 0,
           "arrowwidth": 1
          },
          "autotypenumbers": "strict",
          "coloraxis": {
           "colorbar": {
            "outlinewidth": 0,
            "ticks": ""
           }
          },
          "colorscale": {
           "diverging": [
            [
             0,
             "#8e0152"
            ],
            [
             0.1,
             "#c51b7d"
            ],
            [
             0.2,
             "#de77ae"
            ],
            [
             0.3,
             "#f1b6da"
            ],
            [
             0.4,
             "#fde0ef"
            ],
            [
             0.5,
             "#f7f7f7"
            ],
            [
             0.6,
             "#e6f5d0"
            ],
            [
             0.7,
             "#b8e186"
            ],
            [
             0.8,
             "#7fbc41"
            ],
            [
             0.9,
             "#4d9221"
            ],
            [
             1,
             "#276419"
            ]
           ],
           "sequential": [
            [
             0,
             "#0d0887"
            ],
            [
             0.1111111111111111,
             "#46039f"
            ],
            [
             0.2222222222222222,
             "#7201a8"
            ],
            [
             0.3333333333333333,
             "#9c179e"
            ],
            [
             0.4444444444444444,
             "#bd3786"
            ],
            [
             0.5555555555555556,
             "#d8576b"
            ],
            [
             0.6666666666666666,
             "#ed7953"
            ],
            [
             0.7777777777777778,
             "#fb9f3a"
            ],
            [
             0.8888888888888888,
             "#fdca26"
            ],
            [
             1,
             "#f0f921"
            ]
           ],
           "sequentialminus": [
            [
             0,
             "#0d0887"
            ],
            [
             0.1111111111111111,
             "#46039f"
            ],
            [
             0.2222222222222222,
             "#7201a8"
            ],
            [
             0.3333333333333333,
             "#9c179e"
            ],
            [
             0.4444444444444444,
             "#bd3786"
            ],
            [
             0.5555555555555556,
             "#d8576b"
            ],
            [
             0.6666666666666666,
             "#ed7953"
            ],
            [
             0.7777777777777778,
             "#fb9f3a"
            ],
            [
             0.8888888888888888,
             "#fdca26"
            ],
            [
             1,
             "#f0f921"
            ]
           ]
          },
          "colorway": [
           "#636efa",
           "#EF553B",
           "#00cc96",
           "#ab63fa",
           "#FFA15A",
           "#19d3f3",
           "#FF6692",
           "#B6E880",
           "#FF97FF",
           "#FECB52"
          ],
          "font": {
           "color": "#2a3f5f"
          },
          "geo": {
           "bgcolor": "white",
           "lakecolor": "white",
           "landcolor": "#E5ECF6",
           "showlakes": true,
           "showland": true,
           "subunitcolor": "white"
          },
          "hoverlabel": {
           "align": "left"
          },
          "hovermode": "closest",
          "mapbox": {
           "style": "light"
          },
          "paper_bgcolor": "white",
          "plot_bgcolor": "#E5ECF6",
          "polar": {
           "angularaxis": {
            "gridcolor": "white",
            "linecolor": "white",
            "ticks": ""
           },
           "bgcolor": "#E5ECF6",
           "radialaxis": {
            "gridcolor": "white",
            "linecolor": "white",
            "ticks": ""
           }
          },
          "scene": {
           "xaxis": {
            "backgroundcolor": "#E5ECF6",
            "gridcolor": "white",
            "gridwidth": 2,
            "linecolor": "white",
            "showbackground": true,
            "ticks": "",
            "zerolinecolor": "white"
           },
           "yaxis": {
            "backgroundcolor": "#E5ECF6",
            "gridcolor": "white",
            "gridwidth": 2,
            "linecolor": "white",
            "showbackground": true,
            "ticks": "",
            "zerolinecolor": "white"
           },
           "zaxis": {
            "backgroundcolor": "#E5ECF6",
            "gridcolor": "white",
            "gridwidth": 2,
            "linecolor": "white",
            "showbackground": true,
            "ticks": "",
            "zerolinecolor": "white"
           }
          },
          "shapedefaults": {
           "line": {
            "color": "#2a3f5f"
           }
          },
          "ternary": {
           "aaxis": {
            "gridcolor": "white",
            "linecolor": "white",
            "ticks": ""
           },
           "baxis": {
            "gridcolor": "white",
            "linecolor": "white",
            "ticks": ""
           },
           "bgcolor": "#E5ECF6",
           "caxis": {
            "gridcolor": "white",
            "linecolor": "white",
            "ticks": ""
           }
          },
          "title": {
           "x": 0.05
          },
          "xaxis": {
           "automargin": true,
           "gridcolor": "white",
           "linecolor": "white",
           "ticks": "",
           "title": {
            "standoff": 15
           },
           "zerolinecolor": "white",
           "zerolinewidth": 2
          },
          "yaxis": {
           "automargin": true,
           "gridcolor": "white",
           "linecolor": "white",
           "ticks": "",
           "title": {
            "standoff": 15
           },
           "zerolinecolor": "white",
           "zerolinewidth": 2
          }
         }
        },
        "title": {
         "text": "Specific richness per altitude per datetime"
        },
        "xaxis": {
         "anchor": "y",
         "domain": [
          0,
          1
         ],
         "title": {
          "text": "datetime"
         }
        },
        "yaxis": {
         "anchor": "x",
         "domain": [
          0,
          1
         ],
         "title": {
          "text": "sum of species"
         }
        }
       }
      }
     },
     "metadata": {},
     "output_type": "display_data"
    }
   ],
   "source": [
    "fig = px.histogram(\n",
    "    specific_richness_df,\n",
    "    x=\"datetime\",\n",
    "    y=\"species\",\n",
    "    color=\"altitude\",\n",
    "    title=\"Specific richness per altitude per datetime\",\n",
    "    # labels={\"norm_counts\": \"Détections / micro\"},\n",
    "    nbins=25,\n",
    "    barmode='group',\n",
    ")\n",
    "fig.show()"
   ]
  }
 ],
 "metadata": {
  "kernelspec": {
   "display_name": ".venv",
   "language": "python",
   "name": "python3"
  },
  "language_info": {
   "codemirror_mode": {
    "name": "ipython",
    "version": 3
   },
   "file_extension": ".py",
   "mimetype": "text/x-python",
   "name": "python",
   "nbconvert_exporter": "python",
   "pygments_lexer": "ipython3",
   "version": "3.13.3"
  }
 },
 "nbformat": 4,
 "nbformat_minor": 2
}
